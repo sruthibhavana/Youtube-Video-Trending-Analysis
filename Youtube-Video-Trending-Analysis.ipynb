{
 "cells": [
  {
   "cell_type": "markdown",
   "metadata": {},
   "source": [
    "<center>Student Name: Gael Gatera</center>"
   ]
  },
  {
   "cell_type": "markdown",
   "metadata": {},
   "source": [
    "The code below was made to hide specific input cells and was found on stack overflow (5)."
   ]
  },
  {
   "cell_type": "code",
   "execution_count": null,
   "metadata": {},
   "outputs": [],
   "source": [
    "#from IPython.core.display import display, HTML\n",
    "toggle_code_str = '''\n",
    "<form action=\"javascript:code_toggle()\"><input type=\"submit\" id=\"toggleButton\" value=\"Hide Code\"></form>\n",
    "'''\n",
    "\n",
    "toggle_code_prepare_str = '''\n",
    "    <script>\n",
    "    function code_toggle() {\n",
    "        if ($('div.cell.code_cell.rendered.selected div.input').css('display')!='none'){\n",
    "            $('div.cell.code_cell.rendered.selected div.input').hide();\n",
    "        } else {\n",
    "            $('div.cell.code_cell.rendered.selected div.input').show();\n",
    "        }\n",
    "    }\n",
    "    </script>\n",
    "\n",
    "'''\n",
    "\n",
    "#display(HTML(toggle_code_prepare_str + toggle_code_str))\n",
    "\n",
    "#def Hide_code():\n",
    "#    display(HTML(toggle_code_str))"
   ]
  },
  {
   "cell_type": "markdown",
   "metadata": {},
   "source": [
    "# Introduction"
   ]
  },
  {
   "cell_type": "markdown",
   "metadata": {},
   "source": [
    "## Essential Libraries, Tools & Dependencies\n",
    "\n",
    "Relative importing allows a python file or a Pyhon module to access the script from another Python file or module. The import statement adds the object to the current scope of your program (11).\n",
    "\n",
    "__Scikit-learn (sklearn):__ Contains a number of state-of-the-art machine learning algorithms that were used throughout this project. Scikit-learn is considered the most prominent Python library for machine learning and depends on two other Python packages, Numpy and SciPy (5).\n",
    "\n",
    "__OS:__ The OS module in Python provides a way of using operating system dependent functionality. The functions that the OS module provides allows you to interface with the underlying operating system that Python is running on - be that Windows, Mac or Linux (3).\n",
    "\n",
    "__Pandas:__ This is a Python library for data wrangling and analysis. Pandas provides a great range of methods to modify and operate on this table; in particular, it allows SQL-like queries and joins of tables (5). This library is mainly used in data pre-processing.\n",
    "\n",
    "__Numpy:__ This is one of the fundamental packages for scientific computing in Python. It contains functionality for multidimensional arrays, high-level mathematical functions such as linear algebra operations. In scikit-learn, the Numpy array is the fundamental data structure (5).\n",
    "\n",
    "__Scipy:__ This is a collection of functions for scientic computing in Python. It provides, among other functionalities, advanced linear algebra routines, mathematical functions, and statistical distributions (5).\n",
    "\n",
    "__Matplotlib:__ This is considered the primary scientific plotting library in Python. It provides functions for making publication-quality visualizations such as line charts, histograms, scatter plots and so on (5).\n",
    "\n",
    "__Seaborn:__ This is a library for making statistical graphics in Python. It is built on top of matplotlib and closely integrated with pandas data structures. Seaborn aims to make visualization a central part of exploring and understanding data. It's dataset-oriented plotting functions operate on dataframes and arrays containing whole datasets and internally perform the necessary semantinc mapping and statistical aggregation to produce informative plots (6). Seaborn's functionality include but is not limited to:\n",
    "\n",
    "  * A dataset-oriented API for examining relationships between multiple variables.\n",
    "\n",
    "  * Specialized support for using categorical variables to show observations or aggregate statistics.\n",
    "  \n",
    "  * Options for visualizing univariate or bivariate distributions and for comparing them between subsets of data.\n",
    "  \n",
    "__Itertools:__ Collection of tools for handling iterators. Simply put, iterators are data types that can be used in a for loop. The most common iterator in Python is the list(9).\n",
    "  \n",
    "__io module:__ The default interface to access files and streams in Python 3.0 (docs.python.org)."
   ]
  },
  {
   "cell_type": "code",
   "execution_count": 1,
   "metadata": {},
   "outputs": [
    {
     "name": "stdout",
     "output_type": "stream",
     "text": [
      "Python version: 3.7.1 (default, Dec 10 2018, 22:54:23) [MSC v.1915 64 bit (AMD64)]\n",
      "Pandas version: 0.23.4\n",
      "Numpy version: 1.15.4\n",
      "MatplotLib version: 3.0.2\n",
      "Seaborn version: 0.9.0\n",
      "Numpy version: 1.1.0\n",
      "IPython version: 7.2.0\n",
      "sklearn version: 0.20.1\n"
     ]
    }
   ],
   "source": [
    "#display(HTML(toggle_code_str))\n",
    "\n",
    "#Importing Dependencies \n",
    "import os\n",
    "\n",
    "import sys\n",
    "print(\"Python version: {}\".format(sys.version))\n",
    "\n",
    "# Importing panas \n",
    "import pandas as pd\n",
    "print(\"Pandas version: {}\".format(pd.__version__))\n",
    "\n",
    "# Importing numpy \n",
    "import numpy as np\n",
    "print(\"Numpy version: {}\".format(np.__version__))\n",
    "\n",
    "# Importing matplotlib for plotting \n",
    "import matplotlib as plt\n",
    "print(\"MatplotLib version: {}\".format(plt.__version__))\n",
    "\n",
    "# importing seaborn for plotting \n",
    "import seaborn as sns\n",
    "sns.set_style('whitegrid')\n",
    "sns.set()\n",
    "print(\"Seaborn version: {}\".format(sns.__version__))\n",
    "\n",
    "# Importing warnings to ignore 'errors'\n",
    "import warnings\n",
    "warnings.filterwarnings('ignore')\n",
    "plt.style.use('classic')\n",
    "\n",
    "# Importing scipy & libraries that we will use  \n",
    "import scipy as sp\n",
    "print(\"Numpy version: {}\".format(sp.__version__))\n",
    "from scipy.stats import skew\n",
    "\n",
    "# Stats for statistical functions \n",
    "from scipy import stats \n",
    "\n",
    "#Importing scipy for stats for pearson distribution Skewness and Kurtosis\n",
    "from scipy.stats.stats import pearsonr\n",
    "\n",
    "#Importing scipy for stats for normal distribution \n",
    "from scipy.stats import norm\n",
    "\n",
    "# Importing Ipython \n",
    "import IPython\n",
    "print(\"IPython version: {}\".format(IPython.__version__))\n",
    "\n",
    "# Importing sckitit learn & the decision tree module\n",
    "import sklearn\n",
    "print(\"sklearn version: {}\".format(sklearn.__version__))\n",
    "from sklearn import tree\n",
    "\n",
    "# Import label encoder\n",
    "from sklearn.preprocessing import LabelEncoder"
   ]
  },
  {
   "cell_type": "markdown",
   "metadata": {},
   "source": [
    "## Data Pre-Processing\n",
    "  The pandas library is very helpful with this step of the Data exploration and overall Data Analysis workflow. Pandas allows the user to import the raw csv file and transform it into a Dataframe with which many operations can be done on. The first operation that was done in this case is to use the \".columns\" method in order to look at the columns which are relevant to the project. "
   ]
  },
  {
   "cell_type": "code",
   "execution_count": 2,
   "metadata": {},
   "outputs": [
    {
     "data": {
      "text/plain": [
       "Index(['video_id', 'trending_date', 'title', 'channel_title', 'category_id',\n",
       "       'publish_time', 'tags', 'views', 'likes', 'dislikes', 'comment_count',\n",
       "       'thumbnail_link', 'comments_disabled', 'ratings_disabled',\n",
       "       'video_error_or_removed', 'description'],\n",
       "      dtype='object')"
      ]
     },
     "execution_count": 2,
     "metadata": {},
     "output_type": "execute_result"
    }
   ],
   "source": [
    "#display(HTML(toggle_code_str))\n",
    "USATrendingVideos = pd.read_csv(\"Data/USvideos.csv\")\n",
    "USATrendingVideos.columns"
   ]
  },
  {
   "cell_type": "markdown",
   "metadata": {},
   "source": [
    "### Dropping Unecessary Columns\n",
    "The data contains columns such as 'comments_disabled' and 'ratings_disabled' which are set by the actual Youtuber and should not affect whether a video trends or not. This simply means that the Youtuber does not want comments and ratings on their videos. Using columns such as 'description' and 'tags' would be useful for sentiment analysis models, however will not be performed in this project and therefore will be dropped from the dataframe. The columns 'thumbnail_link' and 'video_error_or_removed' are also irrelevent to the project and will also be dropped for faster computation and ease of analysis. "
   ]
  },
  {
   "cell_type": "code",
   "execution_count": 3,
   "metadata": {},
   "outputs": [],
   "source": [
    "#display(HTML(toggle_code_str))\n",
    "USATrendingVideos = USATrendingVideos.drop(['comments_disabled','ratings_disabled',\n",
    "                      'description','tags', 'thumbnail_link', 'video_error_or_removed'], axis= 1)"
   ]
  },
  {
   "cell_type": "markdown",
   "metadata": {},
   "source": [
    "### First Look"
   ]
  },
  {
   "cell_type": "markdown",
   "metadata": {},
   "source": [
    "The pandas \".head()\" method allows the user to look at the first 5 rows and the column labels. This is very helpful in order to see what kind of Data is being worked with. Also, checking how many values are contained in each column and seeing if there are any missing values can be useful."
   ]
  },
  {
   "cell_type": "code",
   "execution_count": 4,
   "metadata": {},
   "outputs": [
    {
     "data": {
      "text/html": [
       "<div>\n",
       "<style scoped>\n",
       "    .dataframe tbody tr th:only-of-type {\n",
       "        vertical-align: middle;\n",
       "    }\n",
       "\n",
       "    .dataframe tbody tr th {\n",
       "        vertical-align: top;\n",
       "    }\n",
       "\n",
       "    .dataframe thead th {\n",
       "        text-align: right;\n",
       "    }\n",
       "</style>\n",
       "<table border=\"1\" class=\"dataframe\">\n",
       "  <thead>\n",
       "    <tr style=\"text-align: right;\">\n",
       "      <th></th>\n",
       "      <th>video_id</th>\n",
       "      <th>trending_date</th>\n",
       "      <th>title</th>\n",
       "      <th>channel_title</th>\n",
       "      <th>category_id</th>\n",
       "      <th>publish_time</th>\n",
       "      <th>views</th>\n",
       "      <th>likes</th>\n",
       "      <th>dislikes</th>\n",
       "      <th>comment_count</th>\n",
       "    </tr>\n",
       "  </thead>\n",
       "  <tbody>\n",
       "    <tr>\n",
       "      <th>0</th>\n",
       "      <td>8O-ZUXGcuWU</td>\n",
       "      <td>18.14.06</td>\n",
       "      <td>Nintendo @ E3 2018: Day 2</td>\n",
       "      <td>Nintendo</td>\n",
       "      <td>20</td>\n",
       "      <td>2018-06-14T01:31:53.000</td>\n",
       "      <td>1549110</td>\n",
       "      <td>21905</td>\n",
       "      <td>1516</td>\n",
       "      <td>1318</td>\n",
       "    </tr>\n",
       "    <tr>\n",
       "      <th>1</th>\n",
       "      <td>Gi56dSh8Fq8</td>\n",
       "      <td>18.14.06</td>\n",
       "      <td>Gourmet Chef Makes A Big Mac Super Fancy</td>\n",
       "      <td>BuzzFeedVideo</td>\n",
       "      <td>22</td>\n",
       "      <td>2018-06-13T18:00:32.000</td>\n",
       "      <td>402418</td>\n",
       "      <td>10070</td>\n",
       "      <td>3303</td>\n",
       "      <td>2142</td>\n",
       "    </tr>\n",
       "    <tr>\n",
       "      <th>2</th>\n",
       "      <td>-9rdDeWzvsU</td>\n",
       "      <td>18.14.06</td>\n",
       "      <td>Stampede - Alexander Jean Ft. Lindsey Stirling</td>\n",
       "      <td>Lindsey Stirling</td>\n",
       "      <td>10</td>\n",
       "      <td>2018-06-13T16:00:24.000</td>\n",
       "      <td>296615</td>\n",
       "      <td>38671</td>\n",
       "      <td>463</td>\n",
       "      <td>2348</td>\n",
       "    </tr>\n",
       "    <tr>\n",
       "      <th>3</th>\n",
       "      <td>MrMAfMbZOmg</td>\n",
       "      <td>18.14.06</td>\n",
       "      <td>Troye Sivan - Dance To This (Official Audio) f...</td>\n",
       "      <td>TroyeSivanVEVO</td>\n",
       "      <td>10</td>\n",
       "      <td>2018-06-13T16:00:01.000</td>\n",
       "      <td>1473589</td>\n",
       "      <td>214511</td>\n",
       "      <td>2011</td>\n",
       "      <td>17455</td>\n",
       "    </tr>\n",
       "    <tr>\n",
       "      <th>4</th>\n",
       "      <td>JGm9Y_hFqNk</td>\n",
       "      <td>18.14.06</td>\n",
       "      <td>First Take reacts: Kyrie Irving says contract ...</td>\n",
       "      <td>ESPN</td>\n",
       "      <td>17</td>\n",
       "      <td>2018-06-13T15:06:08.000</td>\n",
       "      <td>812832</td>\n",
       "      <td>7701</td>\n",
       "      <td>320</td>\n",
       "      <td>2505</td>\n",
       "    </tr>\n",
       "  </tbody>\n",
       "</table>\n",
       "</div>"
      ],
      "text/plain": [
       "      video_id trending_date  \\\n",
       "0  8O-ZUXGcuWU      18.14.06   \n",
       "1  Gi56dSh8Fq8      18.14.06   \n",
       "2  -9rdDeWzvsU      18.14.06   \n",
       "3  MrMAfMbZOmg      18.14.06   \n",
       "4  JGm9Y_hFqNk      18.14.06   \n",
       "\n",
       "                                               title     channel_title  \\\n",
       "0                          Nintendo @ E3 2018: Day 2          Nintendo   \n",
       "1           Gourmet Chef Makes A Big Mac Super Fancy     BuzzFeedVideo   \n",
       "2     Stampede - Alexander Jean Ft. Lindsey Stirling  Lindsey Stirling   \n",
       "3  Troye Sivan - Dance To This (Official Audio) f...    TroyeSivanVEVO   \n",
       "4  First Take reacts: Kyrie Irving says contract ...              ESPN   \n",
       "\n",
       "   category_id             publish_time    views   likes  dislikes  \\\n",
       "0           20  2018-06-14T01:31:53.000  1549110   21905      1516   \n",
       "1           22  2018-06-13T18:00:32.000   402418   10070      3303   \n",
       "2           10  2018-06-13T16:00:24.000   296615   38671       463   \n",
       "3           10  2018-06-13T16:00:01.000  1473589  214511      2011   \n",
       "4           17  2018-06-13T15:06:08.000   812832    7701       320   \n",
       "\n",
       "   comment_count  \n",
       "0           1318  \n",
       "1           2142  \n",
       "2           2348  \n",
       "3          17455  \n",
       "4           2505  "
      ]
     },
     "execution_count": 4,
     "metadata": {},
     "output_type": "execute_result"
    }
   ],
   "source": [
    "#display(HTML(toggle_code_str))\n",
    "#First look at the kind of Data we have\n",
    "USATrendingVideos.head()"
   ]
  },
  {
   "cell_type": "code",
   "execution_count": 5,
   "metadata": {},
   "outputs": [
    {
     "name": "stdout",
     "output_type": "stream",
     "text": [
      "Shape of data: (40949, 10)\n"
     ]
    }
   ],
   "source": [
    "#display(HTML(toggle_code_str))\n",
    "print(\"Shape of data: {}\".format(USATrendingVideos.shape))"
   ]
  },
  {
   "cell_type": "markdown",
   "metadata": {},
   "source": [
    "The good news is that all columns have the same amount of values and there are no missing values. When looking at the \"publishing_time\" column, we can see that something is not correct. The data contained in the \"publish_time\" column in reality is a combination of date and time with the character \"T\" acting as a delimiter. The aformentioned can be kept in mind as a next step for the data preparation to separate the two before turning them into parameters. Furthermore, when we are looking at the \"category_id\" column, we see that it only contains integers. Altough this is not a bad thing in concept, a proactive analyst can realize that these will eventually be turned into categorical variables and having them labeled would be ideal. Luckily, the zipfile that was downloaded from Kaggle contains a .json file which has each categorical_id number with it's corresponding label."
   ]
  },
  {
   "cell_type": "code",
   "execution_count": 6,
   "metadata": {},
   "outputs": [],
   "source": [
    "USATrendingVideos[['publish_date','publish_time']] = USATrendingVideos['publish_time'].str.split('T', expand=True)"
   ]
  },
  {
   "cell_type": "markdown",
   "metadata": {},
   "source": [
    "When looking at the two columns that involve a dates, 'publish_date' & 'trending_date' one can come to the conclusion that different videos take different amount of time to trend after they are published. So for the purpose of this project, a new column will be created that will calculate the amount of time different videos took to trend."
   ]
  },
  {
   "cell_type": "code",
   "execution_count": 7,
   "metadata": {},
   "outputs": [],
   "source": [
    "# Transforming Trending date column to datetime format\n",
    "USATrendingVideos['trending_date'] = pd.to_datetime(USATrendingVideos['trending_date'], format='%y.%d.%m').dt.date"
   ]
  },
  {
   "cell_type": "code",
   "execution_count": 8,
   "metadata": {},
   "outputs": [
    {
     "data": {
      "text/html": [
       "<div>\n",
       "<style scoped>\n",
       "    .dataframe tbody tr th:only-of-type {\n",
       "        vertical-align: middle;\n",
       "    }\n",
       "\n",
       "    .dataframe tbody tr th {\n",
       "        vertical-align: top;\n",
       "    }\n",
       "\n",
       "    .dataframe thead th {\n",
       "        text-align: right;\n",
       "    }\n",
       "</style>\n",
       "<table border=\"1\" class=\"dataframe\">\n",
       "  <thead>\n",
       "    <tr style=\"text-align: right;\">\n",
       "      <th></th>\n",
       "      <th>video_id</th>\n",
       "      <th>trending_date</th>\n",
       "      <th>title</th>\n",
       "      <th>channel_title</th>\n",
       "      <th>category_id</th>\n",
       "      <th>publish_time</th>\n",
       "      <th>views</th>\n",
       "      <th>likes</th>\n",
       "      <th>dislikes</th>\n",
       "      <th>comment_count</th>\n",
       "      <th>publish_date</th>\n",
       "    </tr>\n",
       "  </thead>\n",
       "  <tbody>\n",
       "    <tr>\n",
       "      <th>0</th>\n",
       "      <td>8O-ZUXGcuWU</td>\n",
       "      <td>2018-06-14</td>\n",
       "      <td>Nintendo @ E3 2018: Day 2</td>\n",
       "      <td>Nintendo</td>\n",
       "      <td>20</td>\n",
       "      <td>01:31:53.000</td>\n",
       "      <td>1549110</td>\n",
       "      <td>21905</td>\n",
       "      <td>1516</td>\n",
       "      <td>1318</td>\n",
       "      <td>2018-06-14</td>\n",
       "    </tr>\n",
       "    <tr>\n",
       "      <th>1</th>\n",
       "      <td>Gi56dSh8Fq8</td>\n",
       "      <td>2018-06-14</td>\n",
       "      <td>Gourmet Chef Makes A Big Mac Super Fancy</td>\n",
       "      <td>BuzzFeedVideo</td>\n",
       "      <td>22</td>\n",
       "      <td>18:00:32.000</td>\n",
       "      <td>402418</td>\n",
       "      <td>10070</td>\n",
       "      <td>3303</td>\n",
       "      <td>2142</td>\n",
       "      <td>2018-06-13</td>\n",
       "    </tr>\n",
       "    <tr>\n",
       "      <th>2</th>\n",
       "      <td>-9rdDeWzvsU</td>\n",
       "      <td>2018-06-14</td>\n",
       "      <td>Stampede - Alexander Jean Ft. Lindsey Stirling</td>\n",
       "      <td>Lindsey Stirling</td>\n",
       "      <td>10</td>\n",
       "      <td>16:00:24.000</td>\n",
       "      <td>296615</td>\n",
       "      <td>38671</td>\n",
       "      <td>463</td>\n",
       "      <td>2348</td>\n",
       "      <td>2018-06-13</td>\n",
       "    </tr>\n",
       "    <tr>\n",
       "      <th>3</th>\n",
       "      <td>MrMAfMbZOmg</td>\n",
       "      <td>2018-06-14</td>\n",
       "      <td>Troye Sivan - Dance To This (Official Audio) f...</td>\n",
       "      <td>TroyeSivanVEVO</td>\n",
       "      <td>10</td>\n",
       "      <td>16:00:01.000</td>\n",
       "      <td>1473589</td>\n",
       "      <td>214511</td>\n",
       "      <td>2011</td>\n",
       "      <td>17455</td>\n",
       "      <td>2018-06-13</td>\n",
       "    </tr>\n",
       "    <tr>\n",
       "      <th>4</th>\n",
       "      <td>JGm9Y_hFqNk</td>\n",
       "      <td>2018-06-14</td>\n",
       "      <td>First Take reacts: Kyrie Irving says contract ...</td>\n",
       "      <td>ESPN</td>\n",
       "      <td>17</td>\n",
       "      <td>15:06:08.000</td>\n",
       "      <td>812832</td>\n",
       "      <td>7701</td>\n",
       "      <td>320</td>\n",
       "      <td>2505</td>\n",
       "      <td>2018-06-13</td>\n",
       "    </tr>\n",
       "  </tbody>\n",
       "</table>\n",
       "</div>"
      ],
      "text/plain": [
       "      video_id trending_date  \\\n",
       "0  8O-ZUXGcuWU    2018-06-14   \n",
       "1  Gi56dSh8Fq8    2018-06-14   \n",
       "2  -9rdDeWzvsU    2018-06-14   \n",
       "3  MrMAfMbZOmg    2018-06-14   \n",
       "4  JGm9Y_hFqNk    2018-06-14   \n",
       "\n",
       "                                               title     channel_title  \\\n",
       "0                          Nintendo @ E3 2018: Day 2          Nintendo   \n",
       "1           Gourmet Chef Makes A Big Mac Super Fancy     BuzzFeedVideo   \n",
       "2     Stampede - Alexander Jean Ft. Lindsey Stirling  Lindsey Stirling   \n",
       "3  Troye Sivan - Dance To This (Official Audio) f...    TroyeSivanVEVO   \n",
       "4  First Take reacts: Kyrie Irving says contract ...              ESPN   \n",
       "\n",
       "   category_id  publish_time    views   likes  dislikes  comment_count  \\\n",
       "0           20  01:31:53.000  1549110   21905      1516           1318   \n",
       "1           22  18:00:32.000   402418   10070      3303           2142   \n",
       "2           10  16:00:24.000   296615   38671       463           2348   \n",
       "3           10  16:00:01.000  1473589  214511      2011          17455   \n",
       "4           17  15:06:08.000   812832    7701       320           2505   \n",
       "\n",
       "  publish_date  \n",
       "0   2018-06-14  \n",
       "1   2018-06-13  \n",
       "2   2018-06-13  \n",
       "3   2018-06-13  \n",
       "4   2018-06-13  "
      ]
     },
     "execution_count": 8,
     "metadata": {},
     "output_type": "execute_result"
    }
   ],
   "source": [
    "USATrendingVideos.head()"
   ]
  },
  {
   "cell_type": "code",
   "execution_count": 9,
   "metadata": {},
   "outputs": [],
   "source": [
    "#Transforming Publish date column to datetime format\n",
    "USATrendingVideos['publish_date'] = pd.to_datetime(USATrendingVideos['publish_date'], format='%Y-%M-%d').dt.date"
   ]
  },
  {
   "cell_type": "code",
   "execution_count": 10,
   "metadata": {},
   "outputs": [],
   "source": [
    "# Create New Variable Counting Days to Achieving Trending Status\n",
    "USATrendingVideos['days_to_trending'] = (USATrendingVideos.trending_date - USATrendingVideos.publish_date).dt.days"
   ]
  },
  {
   "cell_type": "code",
   "execution_count": 11,
   "metadata": {},
   "outputs": [
    {
     "data": {
      "text/html": [
       "<div>\n",
       "<style scoped>\n",
       "    .dataframe tbody tr th:only-of-type {\n",
       "        vertical-align: middle;\n",
       "    }\n",
       "\n",
       "    .dataframe tbody tr th {\n",
       "        vertical-align: top;\n",
       "    }\n",
       "\n",
       "    .dataframe thead th {\n",
       "        text-align: right;\n",
       "    }\n",
       "</style>\n",
       "<table border=\"1\" class=\"dataframe\">\n",
       "  <thead>\n",
       "    <tr style=\"text-align: right;\">\n",
       "      <th></th>\n",
       "      <th>video_id</th>\n",
       "      <th>trending_date</th>\n",
       "      <th>title</th>\n",
       "      <th>channel_title</th>\n",
       "      <th>category_id</th>\n",
       "      <th>publish_time</th>\n",
       "      <th>views</th>\n",
       "      <th>likes</th>\n",
       "      <th>dislikes</th>\n",
       "      <th>comment_count</th>\n",
       "      <th>publish_date</th>\n",
       "      <th>days_to_trending</th>\n",
       "    </tr>\n",
       "  </thead>\n",
       "  <tbody>\n",
       "    <tr>\n",
       "      <th>0</th>\n",
       "      <td>8O-ZUXGcuWU</td>\n",
       "      <td>2018-06-14</td>\n",
       "      <td>Nintendo @ E3 2018: Day 2</td>\n",
       "      <td>Nintendo</td>\n",
       "      <td>20</td>\n",
       "      <td>01:31:53.000</td>\n",
       "      <td>1549110</td>\n",
       "      <td>21905</td>\n",
       "      <td>1516</td>\n",
       "      <td>1318</td>\n",
       "      <td>2018-01-14</td>\n",
       "      <td>151</td>\n",
       "    </tr>\n",
       "    <tr>\n",
       "      <th>1</th>\n",
       "      <td>Gi56dSh8Fq8</td>\n",
       "      <td>2018-06-14</td>\n",
       "      <td>Gourmet Chef Makes A Big Mac Super Fancy</td>\n",
       "      <td>BuzzFeedVideo</td>\n",
       "      <td>22</td>\n",
       "      <td>18:00:32.000</td>\n",
       "      <td>402418</td>\n",
       "      <td>10070</td>\n",
       "      <td>3303</td>\n",
       "      <td>2142</td>\n",
       "      <td>2018-01-13</td>\n",
       "      <td>152</td>\n",
       "    </tr>\n",
       "    <tr>\n",
       "      <th>2</th>\n",
       "      <td>-9rdDeWzvsU</td>\n",
       "      <td>2018-06-14</td>\n",
       "      <td>Stampede - Alexander Jean Ft. Lindsey Stirling</td>\n",
       "      <td>Lindsey Stirling</td>\n",
       "      <td>10</td>\n",
       "      <td>16:00:24.000</td>\n",
       "      <td>296615</td>\n",
       "      <td>38671</td>\n",
       "      <td>463</td>\n",
       "      <td>2348</td>\n",
       "      <td>2018-01-13</td>\n",
       "      <td>152</td>\n",
       "    </tr>\n",
       "    <tr>\n",
       "      <th>3</th>\n",
       "      <td>MrMAfMbZOmg</td>\n",
       "      <td>2018-06-14</td>\n",
       "      <td>Troye Sivan - Dance To This (Official Audio) f...</td>\n",
       "      <td>TroyeSivanVEVO</td>\n",
       "      <td>10</td>\n",
       "      <td>16:00:01.000</td>\n",
       "      <td>1473589</td>\n",
       "      <td>214511</td>\n",
       "      <td>2011</td>\n",
       "      <td>17455</td>\n",
       "      <td>2018-01-13</td>\n",
       "      <td>152</td>\n",
       "    </tr>\n",
       "    <tr>\n",
       "      <th>4</th>\n",
       "      <td>JGm9Y_hFqNk</td>\n",
       "      <td>2018-06-14</td>\n",
       "      <td>First Take reacts: Kyrie Irving says contract ...</td>\n",
       "      <td>ESPN</td>\n",
       "      <td>17</td>\n",
       "      <td>15:06:08.000</td>\n",
       "      <td>812832</td>\n",
       "      <td>7701</td>\n",
       "      <td>320</td>\n",
       "      <td>2505</td>\n",
       "      <td>2018-01-13</td>\n",
       "      <td>152</td>\n",
       "    </tr>\n",
       "  </tbody>\n",
       "</table>\n",
       "</div>"
      ],
      "text/plain": [
       "      video_id trending_date  \\\n",
       "0  8O-ZUXGcuWU    2018-06-14   \n",
       "1  Gi56dSh8Fq8    2018-06-14   \n",
       "2  -9rdDeWzvsU    2018-06-14   \n",
       "3  MrMAfMbZOmg    2018-06-14   \n",
       "4  JGm9Y_hFqNk    2018-06-14   \n",
       "\n",
       "                                               title     channel_title  \\\n",
       "0                          Nintendo @ E3 2018: Day 2          Nintendo   \n",
       "1           Gourmet Chef Makes A Big Mac Super Fancy     BuzzFeedVideo   \n",
       "2     Stampede - Alexander Jean Ft. Lindsey Stirling  Lindsey Stirling   \n",
       "3  Troye Sivan - Dance To This (Official Audio) f...    TroyeSivanVEVO   \n",
       "4  First Take reacts: Kyrie Irving says contract ...              ESPN   \n",
       "\n",
       "   category_id  publish_time    views   likes  dislikes  comment_count  \\\n",
       "0           20  01:31:53.000  1549110   21905      1516           1318   \n",
       "1           22  18:00:32.000   402418   10070      3303           2142   \n",
       "2           10  16:00:24.000   296615   38671       463           2348   \n",
       "3           10  16:00:01.000  1473589  214511      2011          17455   \n",
       "4           17  15:06:08.000   812832    7701       320           2505   \n",
       "\n",
       "  publish_date  days_to_trending  \n",
       "0   2018-01-14               151  \n",
       "1   2018-01-13               152  \n",
       "2   2018-01-13               152  \n",
       "3   2018-01-13               152  \n",
       "4   2018-01-13               152  "
      ]
     },
     "execution_count": 11,
     "metadata": {},
     "output_type": "execute_result"
    }
   ],
   "source": [
    "# Here we see that our new column was added to the dataframe\n",
    "USATrendingVideos.head()"
   ]
  },
  {
   "cell_type": "markdown",
   "metadata": {},
   "source": [
    "### Categorizing days to trending as percentiles"
   ]
  },
  {
   "cell_type": "code",
   "execution_count": 12,
   "metadata": {},
   "outputs": [
    {
     "data": {
      "text/plain": [
       "count    40949.000000\n",
       "mean       146.478082\n",
       "std        190.379085\n",
       "min          0.000000\n",
       "5%           3.000000\n",
       "25%         38.000000\n",
       "50%         99.000000\n",
       "75%        305.000000\n",
       "95%        340.000000\n",
       "max       4396.000000\n",
       "Name: days_to_trending, dtype: float64"
      ]
     },
     "execution_count": 12,
     "metadata": {},
     "output_type": "execute_result"
    }
   ],
   "source": [
    "USATrendingVideos.days_to_trending.describe(percentiles=[.05,.25,.5,.75,.95])"
   ]
  },
  {
   "cell_type": "markdown",
   "metadata": {},
   "source": [
    "### Converting category_id.json file to .csv file"
   ]
  },
  {
   "cell_type": "markdown",
   "metadata": {},
   "source": [
    "It is very common that when pulling data from an API that the data comes in the form on a .json file. These files are key value pairs just like dictionaries, meaning they can also be made into dataframes. This section converts the US_category_id.json file which contains all the previously mentioned category id's whith the appropriate labels."
   ]
  },
  {
   "cell_type": "code",
   "execution_count": 13,
   "metadata": {},
   "outputs": [],
   "source": [
    "#display(HTML(toggle_code_str))\n",
    "# Dependencies\n",
    "import json\n",
    "import csv\n",
    "# Read \"category_id\" file into a variable and parse it into a JSON object:\n",
    "#read file\n",
    "with open('Data/US_category_id.json', 'r') as jsonfile:\n",
    "    data=jsonfile.read()\n",
    " \n",
    "# parse file\n",
    "jsonobj = json.loads(data)"
   ]
  },
  {
   "cell_type": "code",
   "execution_count": 15,
   "metadata": {},
   "outputs": [
    {
     "name": "stdout",
     "output_type": "stream",
     "text": [
      "15\n"
     ]
    }
   ],
   "source": [
    "\n",
    "'''\n",
    "Since .json files are like dictionaries as in they are key value pairs. \n",
    "We can check if the code we use to convert works fine.\n",
    "'''\n",
    "print(jsonobj['items'][3]['id'])"
   ]
  },
  {
   "cell_type": "markdown",
   "metadata": {},
   "source": [
    "The previous code successfully outputed '15', one of the integers in the 'category_id'. This means we now have our JSON object in memory.  Next step, we need to write our code to convert the JSON into CSV by creating a list of keys in the JSON. Once the .json file was converted into .csv file we can do the same \".head\" method that was done on the initial dataframe in order to look at the column labels."
   ]
  },
  {
   "cell_type": "code",
   "execution_count": null,
   "metadata": {},
   "outputs": [],
   "source": [
    "#display(HTML(toggle_code_str))\n",
    "keylist = []\n",
    "for key in jsonobj['items']:\n",
    "    keylist.append(key)"
   ]
  },
  {
   "cell_type": "code",
   "execution_count": null,
   "metadata": {},
   "outputs": [],
   "source": [
    "#display(HTML(toggle_code_str))\n",
    "'''\n",
    "\n",
    "f = csv.writer(open(\"test.csv\", \"w\"))\n",
    "f.writerow(keylist)\n",
    "\n",
    "#Iterate through each record in the JSON Array\n",
    "for record in jsonobj:\n",
    "Create placeholder to hold the data for the current record\n",
    "    currentrecord = []\n",
    "#Iterate through each key in the keylist and add the data to our current record list\n",
    "for key in keylist:\n",
    "    currentrecord.append(record[key])\n",
    "\n",
    "    #Write the current record as a line in our CSV\n",
    "f.writerow(currentrecord)\n",
    "\n",
    "'''"
   ]
  },
  {
   "cell_type": "code",
   "execution_count": 16,
   "metadata": {},
   "outputs": [
    {
     "data": {
      "text/html": [
       "<div>\n",
       "<style scoped>\n",
       "    .dataframe tbody tr th:only-of-type {\n",
       "        vertical-align: middle;\n",
       "    }\n",
       "\n",
       "    .dataframe tbody tr th {\n",
       "        vertical-align: top;\n",
       "    }\n",
       "\n",
       "    .dataframe thead th {\n",
       "        text-align: right;\n",
       "    }\n",
       "</style>\n",
       "<table border=\"1\" class=\"dataframe\">\n",
       "  <thead>\n",
       "    <tr style=\"text-align: right;\">\n",
       "      <th></th>\n",
       "      <th>kind</th>\n",
       "      <th>etag</th>\n",
       "      <th>id</th>\n",
       "      <th>snippet/channelId</th>\n",
       "      <th>snippet/title</th>\n",
       "      <th>snippet/assignable</th>\n",
       "    </tr>\n",
       "  </thead>\n",
       "  <tbody>\n",
       "    <tr>\n",
       "      <th>0</th>\n",
       "      <td>youtube#videoCategory</td>\n",
       "      <td>\"m2yskBQFythfE4irbTIeOgYYfBU/Xy1mB4_yLrHy_BmKm...</td>\n",
       "      <td>1</td>\n",
       "      <td>UCBR8-60-B28hp2BmDPdntcQ</td>\n",
       "      <td>Film &amp; Animation</td>\n",
       "      <td>True</td>\n",
       "    </tr>\n",
       "    <tr>\n",
       "      <th>1</th>\n",
       "      <td>youtube#videoCategory</td>\n",
       "      <td>\"m2yskBQFythfE4irbTIeOgYYfBU/UZ1oLIIz2dxIhO45Z...</td>\n",
       "      <td>2</td>\n",
       "      <td>UCBR8-60-B28hp2BmDPdntcQ</td>\n",
       "      <td>Autos &amp; Vehicles</td>\n",
       "      <td>True</td>\n",
       "    </tr>\n",
       "    <tr>\n",
       "      <th>2</th>\n",
       "      <td>youtube#videoCategory</td>\n",
       "      <td>\"m2yskBQFythfE4irbTIeOgYYfBU/nqRIq97-xe5XRZTxb...</td>\n",
       "      <td>10</td>\n",
       "      <td>UCBR8-60-B28hp2BmDPdntcQ</td>\n",
       "      <td>Music</td>\n",
       "      <td>True</td>\n",
       "    </tr>\n",
       "    <tr>\n",
       "      <th>3</th>\n",
       "      <td>youtube#videoCategory</td>\n",
       "      <td>\"m2yskBQFythfE4irbTIeOgYYfBU/HwXKamM1Q20q9BN-o...</td>\n",
       "      <td>15</td>\n",
       "      <td>UCBR8-60-B28hp2BmDPdntcQ</td>\n",
       "      <td>Pets &amp; Animals</td>\n",
       "      <td>True</td>\n",
       "    </tr>\n",
       "    <tr>\n",
       "      <th>4</th>\n",
       "      <td>youtube#videoCategory</td>\n",
       "      <td>\"m2yskBQFythfE4irbTIeOgYYfBU/9GQMSRjrZdHeb1OEM...</td>\n",
       "      <td>17</td>\n",
       "      <td>UCBR8-60-B28hp2BmDPdntcQ</td>\n",
       "      <td>Sports</td>\n",
       "      <td>True</td>\n",
       "    </tr>\n",
       "  </tbody>\n",
       "</table>\n",
       "</div>"
      ],
      "text/plain": [
       "                    kind                                               etag  \\\n",
       "0  youtube#videoCategory  \"m2yskBQFythfE4irbTIeOgYYfBU/Xy1mB4_yLrHy_BmKm...   \n",
       "1  youtube#videoCategory  \"m2yskBQFythfE4irbTIeOgYYfBU/UZ1oLIIz2dxIhO45Z...   \n",
       "2  youtube#videoCategory  \"m2yskBQFythfE4irbTIeOgYYfBU/nqRIq97-xe5XRZTxb...   \n",
       "3  youtube#videoCategory  \"m2yskBQFythfE4irbTIeOgYYfBU/HwXKamM1Q20q9BN-o...   \n",
       "4  youtube#videoCategory  \"m2yskBQFythfE4irbTIeOgYYfBU/9GQMSRjrZdHeb1OEM...   \n",
       "\n",
       "   id         snippet/channelId     snippet/title  snippet/assignable  \n",
       "0   1  UCBR8-60-B28hp2BmDPdntcQ  Film & Animation                True  \n",
       "1   2  UCBR8-60-B28hp2BmDPdntcQ  Autos & Vehicles                True  \n",
       "2  10  UCBR8-60-B28hp2BmDPdntcQ             Music                True  \n",
       "3  15  UCBR8-60-B28hp2BmDPdntcQ    Pets & Animals                True  \n",
       "4  17  UCBR8-60-B28hp2BmDPdntcQ            Sports                True  "
      ]
     },
     "execution_count": 16,
     "metadata": {},
     "output_type": "execute_result"
    }
   ],
   "source": [
    "#display(HTML(toggle_code_str))\n",
    "CategoryCSV = pd.read_csv(\"Data/convertcsv.csv\")\n",
    "CategoryCSV.head()"
   ]
  },
  {
   "cell_type": "markdown",
   "metadata": {},
   "source": [
    "The results above shows the labels for each category id as 'snippet/title'. The next step will be to rename the 'id' column to 'category_id' so it can be merged to the USATrendingVideos dataframe. All the other columns can be dropped as they are not required for the purposes of this project. Another step for the data exploration is to do a '.shape()' and look at how many columns the and rows the dataset has."
   ]
  },
  {
   "cell_type": "code",
   "execution_count": 17,
   "metadata": {},
   "outputs": [
    {
     "name": "stdout",
     "output_type": "stream",
     "text": [
      "Shape of data: (32, 6)\n"
     ]
    }
   ],
   "source": [
    "#display(HTML(toggle_code_str))\n",
    "CategoryCSV = CategoryCSV.rename(columns={'id': 'category_id'})\n",
    "CategoryCSV = CategoryCSV.rename(columns={'snippet/title': 'category_name'})\n",
    "print(\"Shape of data: {}\".format(CategoryCSV.shape))"
   ]
  },
  {
   "cell_type": "code",
   "execution_count": 18,
   "metadata": {},
   "outputs": [],
   "source": [
    "USATrendingVideos_v2 = pd.merge(USATrendingVideos,CategoryCSV,how=\"left\",on=\"category_id\")"
   ]
  },
  {
   "cell_type": "code",
   "execution_count": 19,
   "metadata": {},
   "outputs": [],
   "source": [
    "USATrendingVideos_v2 = USATrendingVideos_v2.drop(['kind','etag',\n",
    "                      'snippet/channelId', 'snippet/assignable'], axis= 1)"
   ]
  },
  {
   "cell_type": "code",
   "execution_count": 20,
   "metadata": {},
   "outputs": [
    {
     "data": {
      "text/html": [
       "<div>\n",
       "<style scoped>\n",
       "    .dataframe tbody tr th:only-of-type {\n",
       "        vertical-align: middle;\n",
       "    }\n",
       "\n",
       "    .dataframe tbody tr th {\n",
       "        vertical-align: top;\n",
       "    }\n",
       "\n",
       "    .dataframe thead th {\n",
       "        text-align: right;\n",
       "    }\n",
       "</style>\n",
       "<table border=\"1\" class=\"dataframe\">\n",
       "  <thead>\n",
       "    <tr style=\"text-align: right;\">\n",
       "      <th></th>\n",
       "      <th>video_id</th>\n",
       "      <th>trending_date</th>\n",
       "      <th>title</th>\n",
       "      <th>channel_title</th>\n",
       "      <th>category_id</th>\n",
       "      <th>publish_time</th>\n",
       "      <th>views</th>\n",
       "      <th>likes</th>\n",
       "      <th>dislikes</th>\n",
       "      <th>comment_count</th>\n",
       "      <th>publish_date</th>\n",
       "      <th>days_to_trending</th>\n",
       "      <th>category_name</th>\n",
       "    </tr>\n",
       "  </thead>\n",
       "  <tbody>\n",
       "    <tr>\n",
       "      <th>0</th>\n",
       "      <td>8O-ZUXGcuWU</td>\n",
       "      <td>2018-06-14</td>\n",
       "      <td>Nintendo @ E3 2018: Day 2</td>\n",
       "      <td>Nintendo</td>\n",
       "      <td>20</td>\n",
       "      <td>01:31:53.000</td>\n",
       "      <td>1549110</td>\n",
       "      <td>21905</td>\n",
       "      <td>1516</td>\n",
       "      <td>1318</td>\n",
       "      <td>2018-01-14</td>\n",
       "      <td>151</td>\n",
       "      <td>Gaming</td>\n",
       "    </tr>\n",
       "    <tr>\n",
       "      <th>1</th>\n",
       "      <td>Gi56dSh8Fq8</td>\n",
       "      <td>2018-06-14</td>\n",
       "      <td>Gourmet Chef Makes A Big Mac Super Fancy</td>\n",
       "      <td>BuzzFeedVideo</td>\n",
       "      <td>22</td>\n",
       "      <td>18:00:32.000</td>\n",
       "      <td>402418</td>\n",
       "      <td>10070</td>\n",
       "      <td>3303</td>\n",
       "      <td>2142</td>\n",
       "      <td>2018-01-13</td>\n",
       "      <td>152</td>\n",
       "      <td>People &amp; Blogs</td>\n",
       "    </tr>\n",
       "    <tr>\n",
       "      <th>2</th>\n",
       "      <td>-9rdDeWzvsU</td>\n",
       "      <td>2018-06-14</td>\n",
       "      <td>Stampede - Alexander Jean Ft. Lindsey Stirling</td>\n",
       "      <td>Lindsey Stirling</td>\n",
       "      <td>10</td>\n",
       "      <td>16:00:24.000</td>\n",
       "      <td>296615</td>\n",
       "      <td>38671</td>\n",
       "      <td>463</td>\n",
       "      <td>2348</td>\n",
       "      <td>2018-01-13</td>\n",
       "      <td>152</td>\n",
       "      <td>Music</td>\n",
       "    </tr>\n",
       "    <tr>\n",
       "      <th>3</th>\n",
       "      <td>MrMAfMbZOmg</td>\n",
       "      <td>2018-06-14</td>\n",
       "      <td>Troye Sivan - Dance To This (Official Audio) f...</td>\n",
       "      <td>TroyeSivanVEVO</td>\n",
       "      <td>10</td>\n",
       "      <td>16:00:01.000</td>\n",
       "      <td>1473589</td>\n",
       "      <td>214511</td>\n",
       "      <td>2011</td>\n",
       "      <td>17455</td>\n",
       "      <td>2018-01-13</td>\n",
       "      <td>152</td>\n",
       "      <td>Music</td>\n",
       "    </tr>\n",
       "    <tr>\n",
       "      <th>4</th>\n",
       "      <td>JGm9Y_hFqNk</td>\n",
       "      <td>2018-06-14</td>\n",
       "      <td>First Take reacts: Kyrie Irving says contract ...</td>\n",
       "      <td>ESPN</td>\n",
       "      <td>17</td>\n",
       "      <td>15:06:08.000</td>\n",
       "      <td>812832</td>\n",
       "      <td>7701</td>\n",
       "      <td>320</td>\n",
       "      <td>2505</td>\n",
       "      <td>2018-01-13</td>\n",
       "      <td>152</td>\n",
       "      <td>Sports</td>\n",
       "    </tr>\n",
       "  </tbody>\n",
       "</table>\n",
       "</div>"
      ],
      "text/plain": [
       "      video_id trending_date  \\\n",
       "0  8O-ZUXGcuWU    2018-06-14   \n",
       "1  Gi56dSh8Fq8    2018-06-14   \n",
       "2  -9rdDeWzvsU    2018-06-14   \n",
       "3  MrMAfMbZOmg    2018-06-14   \n",
       "4  JGm9Y_hFqNk    2018-06-14   \n",
       "\n",
       "                                               title     channel_title  \\\n",
       "0                          Nintendo @ E3 2018: Day 2          Nintendo   \n",
       "1           Gourmet Chef Makes A Big Mac Super Fancy     BuzzFeedVideo   \n",
       "2     Stampede - Alexander Jean Ft. Lindsey Stirling  Lindsey Stirling   \n",
       "3  Troye Sivan - Dance To This (Official Audio) f...    TroyeSivanVEVO   \n",
       "4  First Take reacts: Kyrie Irving says contract ...              ESPN   \n",
       "\n",
       "   category_id  publish_time    views   likes  dislikes  comment_count  \\\n",
       "0           20  01:31:53.000  1549110   21905      1516           1318   \n",
       "1           22  18:00:32.000   402418   10070      3303           2142   \n",
       "2           10  16:00:24.000   296615   38671       463           2348   \n",
       "3           10  16:00:01.000  1473589  214511      2011          17455   \n",
       "4           17  15:06:08.000   812832    7701       320           2505   \n",
       "\n",
       "  publish_date  days_to_trending   category_name  \n",
       "0   2018-01-14               151          Gaming  \n",
       "1   2018-01-13               152  People & Blogs  \n",
       "2   2018-01-13               152           Music  \n",
       "3   2018-01-13               152           Music  \n",
       "4   2018-01-13               152          Sports  "
      ]
     },
     "execution_count": 20,
     "metadata": {},
     "output_type": "execute_result"
    }
   ],
   "source": [
    "USATrendingVideos_v2.head()"
   ]
  },
  {
   "cell_type": "code",
   "execution_count": 21,
   "metadata": {},
   "outputs": [
    {
     "name": "stdout",
     "output_type": "stream",
     "text": [
      "Shape of data: (40949, 13)\n"
     ]
    }
   ],
   "source": [
    "print(\"Shape of data: {}\".format(USATrendingVideos_v2.shape))"
   ]
  },
  {
   "cell_type": "markdown",
   "metadata": {},
   "source": [
    "## Index for Trending Dates\n",
    "The code below creates an index that essentially groups all videos that trended on the same day and use that as an index for our analysis."
   ]
  },
  {
   "cell_type": "code",
   "execution_count": 22,
   "metadata": {},
   "outputs": [
    {
     "data": {
      "text/html": [
       "<div>\n",
       "<style scoped>\n",
       "    .dataframe tbody tr th:only-of-type {\n",
       "        vertical-align: middle;\n",
       "    }\n",
       "\n",
       "    .dataframe tbody tr th {\n",
       "        vertical-align: top;\n",
       "    }\n",
       "\n",
       "    .dataframe thead th {\n",
       "        text-align: right;\n",
       "    }\n",
       "</style>\n",
       "<table border=\"1\" class=\"dataframe\">\n",
       "  <thead>\n",
       "    <tr style=\"text-align: right;\">\n",
       "      <th></th>\n",
       "      <th></th>\n",
       "      <th>title</th>\n",
       "      <th>channel_title</th>\n",
       "      <th>category_id</th>\n",
       "      <th>publish_time</th>\n",
       "      <th>views</th>\n",
       "      <th>likes</th>\n",
       "      <th>dislikes</th>\n",
       "      <th>comment_count</th>\n",
       "      <th>publish_date</th>\n",
       "      <th>days_to_trending</th>\n",
       "      <th>category_name</th>\n",
       "    </tr>\n",
       "    <tr>\n",
       "      <th>trending_date</th>\n",
       "      <th>video_id</th>\n",
       "      <th></th>\n",
       "      <th></th>\n",
       "      <th></th>\n",
       "      <th></th>\n",
       "      <th></th>\n",
       "      <th></th>\n",
       "      <th></th>\n",
       "      <th></th>\n",
       "      <th></th>\n",
       "      <th></th>\n",
       "      <th></th>\n",
       "    </tr>\n",
       "  </thead>\n",
       "  <tbody>\n",
       "    <tr>\n",
       "      <th rowspan=\"5\" valign=\"top\">2018-06-14</th>\n",
       "      <th>8O-ZUXGcuWU</th>\n",
       "      <td>Nintendo @ E3 2018: Day 2</td>\n",
       "      <td>Nintendo</td>\n",
       "      <td>20</td>\n",
       "      <td>01:31:53.000</td>\n",
       "      <td>1549110</td>\n",
       "      <td>21905</td>\n",
       "      <td>1516</td>\n",
       "      <td>1318</td>\n",
       "      <td>2018-01-14</td>\n",
       "      <td>151</td>\n",
       "      <td>Gaming</td>\n",
       "    </tr>\n",
       "    <tr>\n",
       "      <th>Gi56dSh8Fq8</th>\n",
       "      <td>Gourmet Chef Makes A Big Mac Super Fancy</td>\n",
       "      <td>BuzzFeedVideo</td>\n",
       "      <td>22</td>\n",
       "      <td>18:00:32.000</td>\n",
       "      <td>402418</td>\n",
       "      <td>10070</td>\n",
       "      <td>3303</td>\n",
       "      <td>2142</td>\n",
       "      <td>2018-01-13</td>\n",
       "      <td>152</td>\n",
       "      <td>People &amp; Blogs</td>\n",
       "    </tr>\n",
       "    <tr>\n",
       "      <th>-9rdDeWzvsU</th>\n",
       "      <td>Stampede - Alexander Jean Ft. Lindsey Stirling</td>\n",
       "      <td>Lindsey Stirling</td>\n",
       "      <td>10</td>\n",
       "      <td>16:00:24.000</td>\n",
       "      <td>296615</td>\n",
       "      <td>38671</td>\n",
       "      <td>463</td>\n",
       "      <td>2348</td>\n",
       "      <td>2018-01-13</td>\n",
       "      <td>152</td>\n",
       "      <td>Music</td>\n",
       "    </tr>\n",
       "    <tr>\n",
       "      <th>MrMAfMbZOmg</th>\n",
       "      <td>Troye Sivan - Dance To This (Official Audio) f...</td>\n",
       "      <td>TroyeSivanVEVO</td>\n",
       "      <td>10</td>\n",
       "      <td>16:00:01.000</td>\n",
       "      <td>1473589</td>\n",
       "      <td>214511</td>\n",
       "      <td>2011</td>\n",
       "      <td>17455</td>\n",
       "      <td>2018-01-13</td>\n",
       "      <td>152</td>\n",
       "      <td>Music</td>\n",
       "    </tr>\n",
       "    <tr>\n",
       "      <th>JGm9Y_hFqNk</th>\n",
       "      <td>First Take reacts: Kyrie Irving says contract ...</td>\n",
       "      <td>ESPN</td>\n",
       "      <td>17</td>\n",
       "      <td>15:06:08.000</td>\n",
       "      <td>812832</td>\n",
       "      <td>7701</td>\n",
       "      <td>320</td>\n",
       "      <td>2505</td>\n",
       "      <td>2018-01-13</td>\n",
       "      <td>152</td>\n",
       "      <td>Sports</td>\n",
       "    </tr>\n",
       "  </tbody>\n",
       "</table>\n",
       "</div>"
      ],
      "text/plain": [
       "                                                                       title  \\\n",
       "trending_date video_id                                                         \n",
       "2018-06-14    8O-ZUXGcuWU                          Nintendo @ E3 2018: Day 2   \n",
       "              Gi56dSh8Fq8           Gourmet Chef Makes A Big Mac Super Fancy   \n",
       "              -9rdDeWzvsU     Stampede - Alexander Jean Ft. Lindsey Stirling   \n",
       "              MrMAfMbZOmg  Troye Sivan - Dance To This (Official Audio) f...   \n",
       "              JGm9Y_hFqNk  First Take reacts: Kyrie Irving says contract ...   \n",
       "\n",
       "                              channel_title  category_id  publish_time  \\\n",
       "trending_date video_id                                                   \n",
       "2018-06-14    8O-ZUXGcuWU          Nintendo           20  01:31:53.000   \n",
       "              Gi56dSh8Fq8     BuzzFeedVideo           22  18:00:32.000   \n",
       "              -9rdDeWzvsU  Lindsey Stirling           10  16:00:24.000   \n",
       "              MrMAfMbZOmg    TroyeSivanVEVO           10  16:00:01.000   \n",
       "              JGm9Y_hFqNk              ESPN           17  15:06:08.000   \n",
       "\n",
       "                             views   likes  dislikes  comment_count  \\\n",
       "trending_date video_id                                                \n",
       "2018-06-14    8O-ZUXGcuWU  1549110   21905      1516           1318   \n",
       "              Gi56dSh8Fq8   402418   10070      3303           2142   \n",
       "              -9rdDeWzvsU   296615   38671       463           2348   \n",
       "              MrMAfMbZOmg  1473589  214511      2011          17455   \n",
       "              JGm9Y_hFqNk   812832    7701       320           2505   \n",
       "\n",
       "                          publish_date  days_to_trending   category_name  \n",
       "trending_date video_id                                                    \n",
       "2018-06-14    8O-ZUXGcuWU   2018-01-14               151          Gaming  \n",
       "              Gi56dSh8Fq8   2018-01-13               152  People & Blogs  \n",
       "              -9rdDeWzvsU   2018-01-13               152           Music  \n",
       "              MrMAfMbZOmg   2018-01-13               152           Music  \n",
       "              JGm9Y_hFqNk   2018-01-13               152          Sports  "
      ]
     },
     "execution_count": 22,
     "metadata": {},
     "output_type": "execute_result"
    }
   ],
   "source": [
    "USATrendingVideos_v2.set_index(['trending_date','video_id'],inplace=True)\n",
    "USATrendingVideos_v2.head()"
   ]
  },
  {
   "cell_type": "markdown",
   "metadata": {},
   "source": [
    "### Dislike percentages"
   ]
  },
  {
   "cell_type": "code",
   "execution_count": 23,
   "metadata": {},
   "outputs": [
    {
     "data": {
      "text/plain": [
       "count    40779.000000\n",
       "mean         0.066887\n",
       "std          0.102317\n",
       "min          0.000000\n",
       "5%           0.007177\n",
       "25%          0.017210\n",
       "50%          0.033012\n",
       "75%          0.069669\n",
       "95%          0.250307\n",
       "max          1.000000\n",
       "Name: dislike_percentage, dtype: float64"
      ]
     },
     "execution_count": 23,
     "metadata": {},
     "output_type": "execute_result"
    }
   ],
   "source": [
    "USATrendingVideos_v2['dislike_percentage'] = USATrendingVideos_v2['dislikes'] / (USATrendingVideos_v2['dislikes'] + USATrendingVideos_v2['likes'])\n",
    "USATrendingVideos_v2.dislike_percentage.describe(percentiles=[.05,.25,.5,.75,.95])"
   ]
  },
  {
   "cell_type": "markdown",
   "metadata": {},
   "source": [
    "# Data Analysis"
   ]
  },
  {
   "cell_type": "markdown",
   "metadata": {},
   "source": [
    "## Grouping By same trending dates\n",
    "In the section below, we are using the fact that we created a new index level that grouped videos by trending dates. The aformentioned index is considered \"level 01, therefore we are createding a dataframe that will group all videos that are in the same level and we will do so based on the video's first occurance."
   ]
  },
  {
   "cell_type": "code",
   "execution_count": 24,
   "metadata": {},
   "outputs": [],
   "source": [
    "# Map Category IDs using the supporting file: US_category_id.json\n",
    "us_videos_categories = pd.read_json('Data/US_category_id.json')\n",
    "categories = {int(category['id']): category['snippet']['title'] for category in us_videos_categories['items']}"
   ]
  },
  {
   "cell_type": "code",
   "execution_count": 25,
   "metadata": {},
   "outputs": [
    {
     "data": {
      "text/html": [
       "<div>\n",
       "<style scoped>\n",
       "    .dataframe tbody tr th:only-of-type {\n",
       "        vertical-align: middle;\n",
       "    }\n",
       "\n",
       "    .dataframe tbody tr th {\n",
       "        vertical-align: top;\n",
       "    }\n",
       "\n",
       "    .dataframe thead th {\n",
       "        text-align: right;\n",
       "    }\n",
       "</style>\n",
       "<table border=\"1\" class=\"dataframe\">\n",
       "  <thead>\n",
       "    <tr style=\"text-align: right;\">\n",
       "      <th></th>\n",
       "      <th>title</th>\n",
       "      <th>channel_title</th>\n",
       "      <th>publish_time</th>\n",
       "      <th>views</th>\n",
       "      <th>likes</th>\n",
       "      <th>dislikes</th>\n",
       "      <th>comment_count</th>\n",
       "      <th>publish_date</th>\n",
       "      <th>days_to_trending</th>\n",
       "      <th>category_name</th>\n",
       "      <th>dislike_percentage</th>\n",
       "      <th>freq</th>\n",
       "      <th>category</th>\n",
       "      <th>views_ratio</th>\n",
       "      <th>views_min_dt</th>\n",
       "    </tr>\n",
       "    <tr>\n",
       "      <th>video_id</th>\n",
       "      <th></th>\n",
       "      <th></th>\n",
       "      <th></th>\n",
       "      <th></th>\n",
       "      <th></th>\n",
       "      <th></th>\n",
       "      <th></th>\n",
       "      <th></th>\n",
       "      <th></th>\n",
       "      <th></th>\n",
       "      <th></th>\n",
       "      <th></th>\n",
       "      <th></th>\n",
       "      <th></th>\n",
       "      <th></th>\n",
       "    </tr>\n",
       "  </thead>\n",
       "  <tbody>\n",
       "    <tr>\n",
       "      <th>VYOjWnS4cMY</th>\n",
       "      <td>Childish Gambino - This Is America (Official V...</td>\n",
       "      <td>ChildishGambinoVEVO</td>\n",
       "      <td>04:00:07.000</td>\n",
       "      <td>217750076</td>\n",
       "      <td>4934188</td>\n",
       "      <td>335462</td>\n",
       "      <td>509799</td>\n",
       "      <td>2018-01-06</td>\n",
       "      <td>145</td>\n",
       "      <td>Music</td>\n",
       "      <td>0.063659</td>\n",
       "      <td>25</td>\n",
       "      <td>Music</td>\n",
       "      <td>1.012585</td>\n",
       "      <td>2017-11-16</td>\n",
       "    </tr>\n",
       "    <tr>\n",
       "      <th>FlsCjmMhFmw</th>\n",
       "      <td>YouTube Rewind: The Shape of 2017 | #YouTubeRe...</td>\n",
       "      <td>YouTube Spotlight</td>\n",
       "      <td>17:58:51.000</td>\n",
       "      <td>149376127</td>\n",
       "      <td>3093544</td>\n",
       "      <td>1643059</td>\n",
       "      <td>810698</td>\n",
       "      <td>2017-01-06</td>\n",
       "      <td>342</td>\n",
       "      <td>Entertainment</td>\n",
       "      <td>0.346886</td>\n",
       "      <td>8</td>\n",
       "      <td>Entertainment</td>\n",
       "      <td>0.165904</td>\n",
       "      <td>2018-06-06</td>\n",
       "    </tr>\n",
       "    <tr>\n",
       "      <th>7C2z4GqqS5E</th>\n",
       "      <td>BTS (방탄소년단) 'FAKE LOVE' Official MV</td>\n",
       "      <td>ibighit</td>\n",
       "      <td>09:00:02.000</td>\n",
       "      <td>121219886</td>\n",
       "      <td>5595203</td>\n",
       "      <td>205565</td>\n",
       "      <td>1225326</td>\n",
       "      <td>2018-01-18</td>\n",
       "      <td>133</td>\n",
       "      <td>Music</td>\n",
       "      <td>0.035438</td>\n",
       "      <td>14</td>\n",
       "      <td>Music</td>\n",
       "      <td>1.014775</td>\n",
       "      <td>2018-02-01</td>\n",
       "    </tr>\n",
       "    <tr>\n",
       "      <th>TyHvyGVs42U</th>\n",
       "      <td>Luis Fonsi, Demi Lovato - Échame La Culpa</td>\n",
       "      <td>LuisFonsiVEVO</td>\n",
       "      <td>05:00:01.000</td>\n",
       "      <td>102012605</td>\n",
       "      <td>2376636</td>\n",
       "      <td>117196</td>\n",
       "      <td>134224</td>\n",
       "      <td>2017-01-17</td>\n",
       "      <td>313</td>\n",
       "      <td>Music</td>\n",
       "      <td>0.046994</td>\n",
       "      <td>10</td>\n",
       "      <td>Music</td>\n",
       "      <td>0.004901</td>\n",
       "      <td>2018-04-29</td>\n",
       "    </tr>\n",
       "    <tr>\n",
       "      <th>ffxKSjUwKdU</th>\n",
       "      <td>Ariana Grande - No Tears Left To Cry</td>\n",
       "      <td>ArianaGrandeVevo</td>\n",
       "      <td>04:00:03.000</td>\n",
       "      <td>74523616</td>\n",
       "      <td>2562936</td>\n",
       "      <td>96851</td>\n",
       "      <td>211699</td>\n",
       "      <td>2018-01-20</td>\n",
       "      <td>100</td>\n",
       "      <td>Music</td>\n",
       "      <td>0.036413</td>\n",
       "      <td>20</td>\n",
       "      <td>Music</td>\n",
       "      <td>1.056149</td>\n",
       "      <td>2017-11-29</td>\n",
       "    </tr>\n",
       "    <tr>\n",
       "      <th>tCXGJQYZ9JA</th>\n",
       "      <td>Taylor Swift - Delicate</td>\n",
       "      <td>TaylorSwiftVEVO</td>\n",
       "      <td>01:15:10.000</td>\n",
       "      <td>71560694</td>\n",
       "      <td>1928392</td>\n",
       "      <td>113990</td>\n",
       "      <td>162990</td>\n",
       "      <td>2018-01-12</td>\n",
       "      <td>74</td>\n",
       "      <td>Music</td>\n",
       "      <td>0.055812</td>\n",
       "      <td>15</td>\n",
       "      <td>Music</td>\n",
       "      <td>0.207107</td>\n",
       "      <td>2017-11-14</td>\n",
       "    </tr>\n",
       "    <tr>\n",
       "      <th>DkeiKbqa02g</th>\n",
       "      <td>Calvin Harris, Dua Lipa - One Kiss (Official V...</td>\n",
       "      <td>CalvinHarrisVEVO</td>\n",
       "      <td>23:01:00.000</td>\n",
       "      <td>71017021</td>\n",
       "      <td>828626</td>\n",
       "      <td>36928</td>\n",
       "      <td>26279</td>\n",
       "      <td>2018-01-02</td>\n",
       "      <td>143</td>\n",
       "      <td>Music</td>\n",
       "      <td>0.042664</td>\n",
       "      <td>21</td>\n",
       "      <td>Music</td>\n",
       "      <td>0.058823</td>\n",
       "      <td>2018-04-27</td>\n",
       "    </tr>\n",
       "    <tr>\n",
       "      <th>i0p1bmr0EmE</th>\n",
       "      <td>TWICE What is Love? M/V</td>\n",
       "      <td>jypentertainment</td>\n",
       "      <td>08:59:51.000</td>\n",
       "      <td>69295519</td>\n",
       "      <td>1324609</td>\n",
       "      <td>118647</td>\n",
       "      <td>238744</td>\n",
       "      <td>2018-01-09</td>\n",
       "      <td>108</td>\n",
       "      <td>Music</td>\n",
       "      <td>0.082208</td>\n",
       "      <td>14</td>\n",
       "      <td>Music</td>\n",
       "      <td>0.560982</td>\n",
       "      <td>2017-12-20</td>\n",
       "    </tr>\n",
       "    <tr>\n",
       "      <th>M4ZoCHID9GI</th>\n",
       "      <td>The Weeknd - Call Out My Name (Official Video)</td>\n",
       "      <td>TheWeekndVEVO</td>\n",
       "      <td>16:00:04.000</td>\n",
       "      <td>67141103</td>\n",
       "      <td>1139848</td>\n",
       "      <td>27532</td>\n",
       "      <td>47735</td>\n",
       "      <td>2018-01-12</td>\n",
       "      <td>108</td>\n",
       "      <td>Music</td>\n",
       "      <td>0.023584</td>\n",
       "      <td>19</td>\n",
       "      <td>Music</td>\n",
       "      <td>1.046199</td>\n",
       "      <td>2018-02-14</td>\n",
       "    </tr>\n",
       "    <tr>\n",
       "      <th>U9BwWKXjVaI</th>\n",
       "      <td>Drake - Nice For What</td>\n",
       "      <td>DrakeVEVO</td>\n",
       "      <td>02:46:31.000</td>\n",
       "      <td>60635812</td>\n",
       "      <td>994986</td>\n",
       "      <td>34165</td>\n",
       "      <td>55653</td>\n",
       "      <td>2018-01-07</td>\n",
       "      <td>110</td>\n",
       "      <td>Music</td>\n",
       "      <td>0.033197</td>\n",
       "      <td>14</td>\n",
       "      <td>Music</td>\n",
       "      <td>0.402756</td>\n",
       "      <td>2018-02-15</td>\n",
       "    </tr>\n",
       "  </tbody>\n",
       "</table>\n",
       "</div>"
      ],
      "text/plain": [
       "                                                         title  \\\n",
       "video_id                                                         \n",
       "VYOjWnS4cMY  Childish Gambino - This Is America (Official V...   \n",
       "FlsCjmMhFmw  YouTube Rewind: The Shape of 2017 | #YouTubeRe...   \n",
       "7C2z4GqqS5E                BTS (방탄소년단) 'FAKE LOVE' Official MV   \n",
       "TyHvyGVs42U          Luis Fonsi, Demi Lovato - Échame La Culpa   \n",
       "ffxKSjUwKdU               Ariana Grande - No Tears Left To Cry   \n",
       "tCXGJQYZ9JA                            Taylor Swift - Delicate   \n",
       "DkeiKbqa02g  Calvin Harris, Dua Lipa - One Kiss (Official V...   \n",
       "i0p1bmr0EmE                            TWICE What is Love? M/V   \n",
       "M4ZoCHID9GI     The Weeknd - Call Out My Name (Official Video)   \n",
       "U9BwWKXjVaI                              Drake - Nice For What   \n",
       "\n",
       "                   channel_title  publish_time      views    likes  dislikes  \\\n",
       "video_id                                                                       \n",
       "VYOjWnS4cMY  ChildishGambinoVEVO  04:00:07.000  217750076  4934188    335462   \n",
       "FlsCjmMhFmw    YouTube Spotlight  17:58:51.000  149376127  3093544   1643059   \n",
       "7C2z4GqqS5E              ibighit  09:00:02.000  121219886  5595203    205565   \n",
       "TyHvyGVs42U        LuisFonsiVEVO  05:00:01.000  102012605  2376636    117196   \n",
       "ffxKSjUwKdU     ArianaGrandeVevo  04:00:03.000   74523616  2562936     96851   \n",
       "tCXGJQYZ9JA      TaylorSwiftVEVO  01:15:10.000   71560694  1928392    113990   \n",
       "DkeiKbqa02g     CalvinHarrisVEVO  23:01:00.000   71017021   828626     36928   \n",
       "i0p1bmr0EmE     jypentertainment  08:59:51.000   69295519  1324609    118647   \n",
       "M4ZoCHID9GI        TheWeekndVEVO  16:00:04.000   67141103  1139848     27532   \n",
       "U9BwWKXjVaI            DrakeVEVO  02:46:31.000   60635812   994986     34165   \n",
       "\n",
       "             comment_count publish_date  days_to_trending  category_name  \\\n",
       "video_id                                                                   \n",
       "VYOjWnS4cMY         509799   2018-01-06               145          Music   \n",
       "FlsCjmMhFmw         810698   2017-01-06               342  Entertainment   \n",
       "7C2z4GqqS5E        1225326   2018-01-18               133          Music   \n",
       "TyHvyGVs42U         134224   2017-01-17               313          Music   \n",
       "ffxKSjUwKdU         211699   2018-01-20               100          Music   \n",
       "tCXGJQYZ9JA         162990   2018-01-12                74          Music   \n",
       "DkeiKbqa02g          26279   2018-01-02               143          Music   \n",
       "i0p1bmr0EmE         238744   2018-01-09               108          Music   \n",
       "M4ZoCHID9GI          47735   2018-01-12               108          Music   \n",
       "U9BwWKXjVaI          55653   2018-01-07               110          Music   \n",
       "\n",
       "             dislike_percentage  freq       category  views_ratio views_min_dt  \n",
       "video_id                                                                        \n",
       "VYOjWnS4cMY            0.063659    25          Music     1.012585   2017-11-16  \n",
       "FlsCjmMhFmw            0.346886     8  Entertainment     0.165904   2018-06-06  \n",
       "7C2z4GqqS5E            0.035438    14          Music     1.014775   2018-02-01  \n",
       "TyHvyGVs42U            0.046994    10          Music     0.004901   2018-04-29  \n",
       "ffxKSjUwKdU            0.036413    20          Music     1.056149   2017-11-29  \n",
       "tCXGJQYZ9JA            0.055812    15          Music     0.207107   2017-11-14  \n",
       "DkeiKbqa02g            0.042664    21          Music     0.058823   2018-04-27  \n",
       "i0p1bmr0EmE            0.082208    14          Music     0.560982   2017-12-20  \n",
       "M4ZoCHID9GI            0.023584    19          Music     1.046199   2018-02-14  \n",
       "U9BwWKXjVaI            0.033197    14          Music     0.402756   2018-02-15  "
      ]
     },
     "execution_count": 25,
     "metadata": {},
     "output_type": "execute_result"
    }
   ],
   "source": [
    "# Video Level Stats Using First Occurence Values\n",
    "video_groups = USATrendingVideos_v2.groupby(level=1).first()\n",
    "# creating a frequency of occurance by title \n",
    "video_groups['freq'] = USATrendingVideos_v2['title'].groupby(level=1).count()\n",
    "#cid meaning category id\n",
    "video_groups['category'] = [categories[cid] for cid in video_groups.category_id]\n",
    "video_groups.drop('category_id',axis=1,inplace=True)\n",
    "video_groups.sort_values(by=['views'],ascending=False,inplace=True)\n",
    "video_groups['views_ratio'] = USATrendingVideos_v2['views'].groupby(level=1).last() / video_groups.views\n",
    "# dt as in change in time\n",
    "views_min_dt = pd.Series([t[0] for t in USATrendingVideos_v2['views'].groupby(level=1).idxmin()],index=video_groups.index)\n",
    "video_groups['views_min_dt'] = views_min_dt\n",
    "video_groups.head(10)"
   ]
  },
  {
   "cell_type": "markdown",
   "metadata": {},
   "source": [
    "In the dataframe above, we can see that some videos trended quite frequently. For example the video \"Childish Gambino - This Is America (Official V..\" trended for 25 consecutive days. This might suggest that most likely if a video starts trending it will keep trending."
   ]
  },
  {
   "cell_type": "code",
   "execution_count": 26,
   "metadata": {},
   "outputs": [
    {
     "name": "stdout",
     "output_type": "stream",
     "text": [
      "13.58%\n"
     ]
    },
    {
     "data": {
      "text/html": [
       "<div>\n",
       "<style scoped>\n",
       "    .dataframe tbody tr th:only-of-type {\n",
       "        vertical-align: middle;\n",
       "    }\n",
       "\n",
       "    .dataframe tbody tr th {\n",
       "        vertical-align: top;\n",
       "    }\n",
       "\n",
       "    .dataframe thead th {\n",
       "        text-align: right;\n",
       "    }\n",
       "</style>\n",
       "<table border=\"1\" class=\"dataframe\">\n",
       "  <thead>\n",
       "    <tr style=\"text-align: right;\">\n",
       "      <th></th>\n",
       "      <th>freq</th>\n",
       "      <th>days_to_trending</th>\n",
       "      <th>days_to_trending_max</th>\n",
       "      <th>test</th>\n",
       "    </tr>\n",
       "    <tr>\n",
       "      <th>video_id</th>\n",
       "      <th></th>\n",
       "      <th></th>\n",
       "      <th></th>\n",
       "      <th></th>\n",
       "    </tr>\n",
       "  </thead>\n",
       "  <tbody>\n",
       "    <tr>\n",
       "      <th>VYOjWnS4cMY</th>\n",
       "      <td>25</td>\n",
       "      <td>145</td>\n",
       "      <td>147</td>\n",
       "      <td>3</td>\n",
       "    </tr>\n",
       "    <tr>\n",
       "      <th>FlsCjmMhFmw</th>\n",
       "      <td>8</td>\n",
       "      <td>342</td>\n",
       "      <td>342</td>\n",
       "      <td>1</td>\n",
       "    </tr>\n",
       "    <tr>\n",
       "      <th>7C2z4GqqS5E</th>\n",
       "      <td>14</td>\n",
       "      <td>133</td>\n",
       "      <td>134</td>\n",
       "      <td>2</td>\n",
       "    </tr>\n",
       "    <tr>\n",
       "      <th>TyHvyGVs42U</th>\n",
       "      <td>10</td>\n",
       "      <td>313</td>\n",
       "      <td>313</td>\n",
       "      <td>1</td>\n",
       "    </tr>\n",
       "    <tr>\n",
       "      <th>ffxKSjUwKdU</th>\n",
       "      <td>20</td>\n",
       "      <td>100</td>\n",
       "      <td>114</td>\n",
       "      <td>15</td>\n",
       "    </tr>\n",
       "  </tbody>\n",
       "</table>\n",
       "</div>"
      ],
      "text/plain": [
       "             freq  days_to_trending  days_to_trending_max  test\n",
       "video_id                                                       \n",
       "VYOjWnS4cMY    25               145                   147     3\n",
       "FlsCjmMhFmw     8               342                   342     1\n",
       "7C2z4GqqS5E    14               133                   134     2\n",
       "TyHvyGVs42U    10               313                   313     1\n",
       "ffxKSjUwKdU    20               100                   114    15"
      ]
     },
     "execution_count": 26,
     "metadata": {},
     "output_type": "execute_result"
    }
   ],
   "source": [
    "tmp = video_groups[['freq','days_to_trending']]\n",
    "days_to_trending_max = USATrendingVideos_v2.groupby(level=1)[['days_to_trending']].max()\n",
    "tmp = tmp.join(days_to_trending_max,how='left',rsuffix='_max')\n",
    "tmp['test'] = tmp.days_to_trending_max - tmp.days_to_trending + 1\n",
    "print('{:.2%}'.format(sum([a==b for a,b in zip(tmp.freq,tmp.test)]) / len(tmp.index)))\n",
    "tmp[tmp.test != tmp.freq].head()"
   ]
  },
  {
   "cell_type": "markdown",
   "metadata": {},
   "source": [
    "The code above was written in order to test the hypothesis that if a video starts trending then it will most likely keep trending. This was proven to be false as the result for videos trending for more than one consecutive day was only 13.58 %."
   ]
  },
  {
   "cell_type": "code",
   "execution_count": 27,
   "metadata": {},
   "outputs": [
    {
     "name": "stdout",
     "output_type": "stream",
     "text": [
      "USATrendingVideos version 2 contains 40949 videos\n",
      "While the final dataset contains 6282 videos\n"
     ]
    }
   ],
   "source": [
    "# Comparing the amount of videos for the original dataset \"USATrendingVideos_v2\" \n",
    "# and the dataset that only took into account single occurances\n",
    "print(\"USATrendingVideos version 2 contains {} videos\".format(USATrendingVideos_v2.shape[0]))\n",
    "print(\"While the final dataset contains {} videos\".format(video_groups.shape[0]))"
   ]
  },
  {
   "cell_type": "markdown",
   "metadata": {},
   "source": [
    "## Hyperparameters"
   ]
  },
  {
   "cell_type": "markdown",
   "metadata": {},
   "source": [
    "Continuing, for this project I will take a closer look and gain better insight at the columns and see which properties of the data can be essential to predicting trending before they are prossed. Before any Machine learning is applied onto them. These proporties are called hyperparameters in Machine Learning. A model hyperparameter is a configuration that is external to the model and whose value cannot be estimated from data (Brownlee). On his Machine Learning blogpost, Jason Brownlee gives the following description to hyperparameters: \n",
    "* They are required by the model when making predictions. \n",
    "* They values define the skill of the model on your problem.\n",
    "* They are estimated or learned from data.\n",
    "* They are often not set manually by the practitioner.\n",
    "* They are often saved as part of the learned model."
   ]
  },
  {
   "cell_type": "markdown",
   "metadata": {},
   "source": [
    "### Hyperparameter Correlation Analysis"
   ]
  },
  {
   "cell_type": "markdown",
   "metadata": {},
   "source": [
    "One way to choose parameters is by looking at which ones correlate with which before putting them into a machine learning model. Below is a correlation heat map for the data that still contained multiple trending dates for each video."
   ]
  },
  {
   "cell_type": "code",
   "execution_count": 28,
   "metadata": {},
   "outputs": [
    {
     "data": {
      "image/png": "[encoded data removed]",
      "text/plain": [
       "<Figure size 432x288 with 2 Axes>"
      ]
     },
     "metadata": {},
     "output_type": "display_data"
    }
   ],
   "source": [
    "with plt.style.context(('ggplot')):\n",
    "    sns.heatmap(USATrendingVideos_v2.corr(), \n",
    "                cmap='coolwarm',\n",
    "                cbar=True, annot=True, \n",
    "                square=True, fmt='.2f', annot_kws={'size':10})"
   ]
  },
  {
   "cell_type": "code",
   "execution_count": 29,
   "metadata": {},
   "outputs": [
    {
     "data": {
      "text/plain": [
       "views                 1.000000\n",
       "likes                 0.849177\n",
       "comment_count         0.617621\n",
       "dislikes              0.472213\n",
       "dislike_percentage   -0.026428\n",
       "days_to_trending     -0.028503\n",
       "category_id          -0.168231\n",
       "Name: views, dtype: float64"
      ]
     },
     "execution_count": 29,
     "metadata": {},
     "output_type": "execute_result"
    }
   ],
   "source": [
    "corr_matrix = USATrendingVideos_v2.corr()\n",
    "corr_matrix[\"views\"].sort_values(ascending=False) "
   ]
  },
  {
   "cell_type": "code",
   "execution_count": 30,
   "metadata": {},
   "outputs": [
    {
     "data": {
      "text/plain": [
       "likes                 1.000000\n",
       "views                 0.849177\n",
       "comment_count         0.803057\n",
       "dislikes              0.447186\n",
       "days_to_trending     -0.024663\n",
       "dislike_percentage   -0.080572\n",
       "category_id          -0.173921\n",
       "Name: likes, dtype: float64"
      ]
     },
     "execution_count": 30,
     "metadata": {},
     "output_type": "execute_result"
    }
   ],
   "source": [
    "corr_matrix[\"likes\"].sort_values(ascending=False) "
   ]
  },
  {
   "cell_type": "markdown",
   "metadata": {},
   "source": [
    "Below is a correlation heatmap for the data that had only contained the last trending day for each video."
   ]
  },
  {
   "cell_type": "code",
   "execution_count": 31,
   "metadata": {},
   "outputs": [
    {
     "data": {
      "image/png": "[encoded data removed]",
      "text/plain": [
       "<Figure size 432x288 with 2 Axes>"
      ]
     },
     "metadata": {},
     "output_type": "display_data"
    }
   ],
   "source": [
    "with plt.style.context(('ggplot')):\n",
    "    sns.heatmap(video_groups.corr(), \n",
    "                cmap='coolwarm',\n",
    "                cbar=True, annot=True, \n",
    "                square=True, fmt='.2f', annot_kws={'size':10})"
   ]
  },
  {
   "cell_type": "code",
   "execution_count": 32,
   "metadata": {},
   "outputs": [
    {
     "data": {
      "text/plain": [
       "views                 1.000000\n",
       "likes                 0.838801\n",
       "comment_count         0.609618\n",
       "dislikes              0.472505\n",
       "freq                  0.171398\n",
       "dislike_percentage   -0.023423\n",
       "days_to_trending     -0.031628\n",
       "views_ratio          -0.102877\n",
       "Name: views, dtype: float64"
      ]
     },
     "execution_count": 32,
     "metadata": {},
     "output_type": "execute_result"
    }
   ],
   "source": [
    "corr_matrix2 = video_groups.corr()\n",
    "corr_matrix2[\"views\"].sort_values(ascending=False)"
   ]
  },
  {
   "cell_type": "code",
   "execution_count": 33,
   "metadata": {},
   "outputs": [
    {
     "data": {
      "text/plain": [
       "likes                 1.000000\n",
       "views                 0.838801\n",
       "comment_count         0.771821\n",
       "dislikes              0.420612\n",
       "freq                  0.144238\n",
       "days_to_trending     -0.027258\n",
       "views_ratio          -0.063966\n",
       "dislike_percentage   -0.079181\n",
       "Name: likes, dtype: float64"
      ]
     },
     "execution_count": 33,
     "metadata": {},
     "output_type": "execute_result"
    }
   ],
   "source": [
    "corr_matrix2[\"likes\"].sort_values(ascending=False)"
   ]
  },
  {
   "cell_type": "markdown",
   "metadata": {},
   "source": [
    "### Comments:\n",
    "We can see that removing the duplicate values for videos that trended multiple times did not have a huge impact as far as which hyperparameters correlated with the other ones, although the actual values differended slightly it is not much of a concern. For example the correlation between the likes and views went from .85 to .8 which is not a big deal. Furthermore, when looking at the correlation between dislikes and views, the value is at a neutral 0.47 for both datasets. The only conclusion that can be drawn from the two aformentioned numbers is that while a video trends and gets more views, viewers are more likely to like the video that dislike the video. If a viewer actually does not like a video they might simply watch another video and not click on the 'dislike' button. The correlaltions closets to 0 are all related to category_id, implying that the Youtube alorigthm does not lean towards putting a certain category as trending over another. "
   ]
  },
  {
   "cell_type": "markdown",
   "metadata": {},
   "source": [
    "# Machine Learning"
   ]
  },
  {
   "cell_type": "markdown",
   "metadata": {},
   "source": [
    "The correlation analysis made in the previous section resulted in likes and views being the two most correlated hyperparameters and therefore we can infer that they also make the most impact on the status of a video being kept as trending. Since we already have ratios of views, next we will also have ratios of likes. I didn't create label encods for the category_id columns simply because they were not very highly correlated with any other variables in the original dataset. Even certain categories such as music videos might have dominated the dataset, this simply implies that people like to watch music videos on Youtube but without necessarily having an impact on whether it keeps trending. The machine learning models used will only be Linear Models."
   ]
  },
  {
   "cell_type": "code",
   "execution_count": 40,
   "metadata": {},
   "outputs": [],
   "source": [
    "from sklearn import tree\n",
    "from sklearn.tree import DecisionTreeRegressor\n",
    "from sklearn import metrics\n",
    "from sklearn.linear_model import LinearRegression, Lars, Ridge"
   ]
  },
  {
   "cell_type": "code",
   "execution_count": 64,
   "metadata": {},
   "outputs": [
    {
     "name": "stdout",
     "output_type": "stream",
     "text": [
      "y\n",
      "count    2060.000000\n",
      "mean       -0.004832\n",
      "std         0.179226\n",
      "min        -0.223095\n",
      "5%         -0.202654\n",
      "25%        -0.123170\n",
      "50%         0.001066\n",
      "75%         0.040876\n",
      "95%         0.276373\n",
      "max         1.858149\n",
      "Name: views_ratio, dtype: float64\n",
      "y_reg\n",
      "count    2060.000000\n",
      "mean        0.694644\n",
      "std         0.102159\n",
      "min         0.587808\n",
      "5%          0.596945\n",
      "25%         0.633457\n",
      "50%         0.693680\n",
      "75%         0.713794\n",
      "95%         0.840851\n",
      "max         2.003081\n",
      "Name: views_ratio, dtype: float64\n"
     ]
    }
   ],
   "source": [
    "MLData = video_groups[(video_groups.views_ratio < 10) & (video_groups.freq > 1) & (video_groups.views_ratio > .8)].dropna().sort_values(by='views_ratio')\n",
    "\n",
    "y = np.log(MLData.views_ratio)\n",
    "print('y')\n",
    "print(y.describe(percentiles=[.05,.25,.5,.75,.95]))\n",
    "X = MLData[['views','likes','dislikes','comment_count','dislike_percentage','days_to_trending',]]\n",
    "\n",
    "\n",
    "MLData_log = np.log(MLData[['views','likes','dislikes','comment_count','dislike_percentage','days_to_trending','views_ratio']]+1)\n",
    "X_reg = MLData_log[['views','likes','dislikes','comment_count','dislike_percentage','days_to_trending',]]\n",
    "y_reg = MLData_log.views_ratio\n",
    "print('y_reg')\n",
    "print(y_reg.describe(percentiles=[.05,.25,.5,.75,.95]))"
   ]
  },
  {
   "cell_type": "markdown",
   "metadata": {},
   "source": [
    "## Variables"
   ]
  },
  {
   "cell_type": "code",
   "execution_count": 68,
   "metadata": {},
   "outputs": [],
   "source": [
    "regr_1 = DecisionTreeRegressor(max_depth=2,min_samples_leaf=.01)\n",
    "regr_2 = DecisionTreeRegressor(max_depth=4,min_samples_leaf=.01)\n",
    "regr_ols = LinearRegression()\n",
    "regr_lrs = Lars()\n",
    "regr_rdg = Ridge (alpha = .5)\n",
    "\n",
    "regr_1.fit(X, y)\n",
    "regr_2.fit(X, y)\n",
    "regr_ols.fit(X_reg, y_reg)\n",
    "regr_lrs.fit(X_reg, y_reg)\n",
    "regr_rdg.fit(X_reg, y_reg)\n",
    "\n",
    "y_1 = regr_1.predict(X)\n",
    "y_2 = regr_2.predict(X)\n",
    "y_ols = regr_ols.predict(X_reg)\n",
    "y_lrs = regr_lrs.predict(X_reg)\n",
    "y_rdg = regr_rdg.predict(X_reg)"
   ]
  },
  {
   "cell_type": "markdown",
   "metadata": {},
   "source": [
    "## Regression Trees"
   ]
  },
  {
   "cell_type": "code",
   "execution_count": 66,
   "metadata": {},
   "outputs": [
    {
     "name": "stdout",
     "output_type": "stream",
     "text": [
      "count    2.060000e+03\n",
      "mean     3.168986e-17\n",
      "std      1.660338e-01\n",
      "min     -1.848080e+00\n",
      "5%      -2.351783e-01\n",
      "25%     -4.258805e-02\n",
      "50%      2.548678e-03\n",
      "75%      9.173251e-02\n",
      "95%      2.042511e-01\n",
      "max      4.028089e-01\n",
      "Name: views_ratio, dtype: float64\n",
      "Regression Tree 1: R-sq = 14.18%\n"
     ]
    }
   ],
   "source": [
    "print((y_1 - y).describe(percentiles=[.05,.25,.5,.75,.95]))\n",
    "print('Regression Tree 1: R-sq = {:.2%}'.format(metrics.r2_score(y,y_1)))"
   ]
  },
  {
   "cell_type": "markdown",
   "metadata": {},
   "source": [
    "## Ordinary Least Square"
   ]
  },
  {
   "cell_type": "markdown",
   "metadata": {},
   "source": [
    "### Variables "
   ]
  },
  {
   "cell_type": "code",
   "execution_count": 52,
   "metadata": {},
   "outputs": [],
   "source": [
    "from sklearn.model_selection import train_test_split"
   ]
  },
  {
   "cell_type": "code",
   "execution_count": 53,
   "metadata": {},
   "outputs": [
    {
     "name": "stdout",
     "output_type": "stream",
     "text": [
      "count    2060.000000\n",
      "mean        0.699476\n",
      "std         0.177126\n",
      "min        -1.157165\n",
      "5%          0.417413\n",
      "25%         0.658847\n",
      "50%         0.698741\n",
      "75%         0.810485\n",
      "95%         0.896305\n",
      "max         0.938385\n",
      "Name: views_ratio, dtype: float64\n",
      "OLS: R-sq = 2.45%\n"
     ]
    }
   ],
   "source": [
    "#OLS\n",
    "regr_ols = LinearRegression()\n",
    "regr_ols.fit(X_reg, y_reg)\n",
    "y_ols = regr_ols.predict(X_reg)\n",
    "print((y_ols - y).describe(percentiles=[.05,.25,.5,.75,.95]))\n",
    "print('OLS: R-sq = {:.2%}'.format(metrics.r2_score(y_reg,y_ols)))"
   ]
  },
  {
   "cell_type": "markdown",
   "metadata": {},
   "source": [
    "In order to make sure that the machine learning models don't simply become good at memorizing the the introduced data, the final dataset will have to be split into two : \n",
    "    1) Training Data: Used to build the machine learning model.\n",
    "    2) Testing Data: Used to assess how well the model works."
   ]
  },
  {
   "cell_type": "markdown",
   "metadata": {},
   "source": [
    "## Least Angle Regression"
   ]
  },
  {
   "cell_type": "code",
   "execution_count": 54,
   "metadata": {},
   "outputs": [
    {
     "name": "stdout",
     "output_type": "stream",
     "text": [
      "count    2060.000000\n",
      "mean        0.699476\n",
      "std         0.177126\n",
      "min        -1.157165\n",
      "5%          0.417413\n",
      "25%         0.658847\n",
      "50%         0.698741\n",
      "75%         0.810485\n",
      "95%         0.896305\n",
      "max         0.938385\n",
      "Name: views_ratio, dtype: float64\n",
      "LARS: R-sq = 2.45%\n"
     ]
    }
   ],
   "source": [
    "# LRS\n",
    "regr_lrs = Lars()\n",
    "regr_lrs.fit(X_reg, y_reg)\n",
    "y_lrs = regr_lrs.predict(X_reg)\n",
    "print((y_lrs - y).describe(percentiles=[.05,.25,.5,.75,.95]))\n",
    "print('LARS: R-sq = {:.2%}'.format(metrics.r2_score(y_reg,y_lrs)))"
   ]
  },
  {
   "cell_type": "markdown",
   "metadata": {},
   "source": [
    "## Ridge Regression"
   ]
  },
  {
   "cell_type": "code",
   "execution_count": 57,
   "metadata": {},
   "outputs": [
    {
     "name": "stdout",
     "output_type": "stream",
     "text": [
      "count    2060.000000\n",
      "mean        0.699476\n",
      "std         0.177127\n",
      "min        -1.157087\n",
      "5%          0.417474\n",
      "25%         0.658892\n",
      "50%         0.698763\n",
      "75%         0.810446\n",
      "95%         0.896411\n",
      "max         0.937886\n",
      "Name: views_ratio, dtype: float64\n",
      "Ridge Regression: R-sq = 2.45%\n"
     ]
    }
   ],
   "source": [
    "# Ridge Regression\n",
    "regr_rdg = Ridge (alpha = .5)\n",
    "regr_rdg.fit(X_reg, y_reg)\n",
    "y_rdg = regr_rdg.predict(X_reg)\n",
    "print((y_rdg - y).describe(percentiles=[.05,.25,.5,.75,.95]))\n",
    "print('Ridge Regression: R-sq = {:.2%}'.format(metrics.r2_score(y_reg,y_rdg)))"
   ]
  },
  {
   "cell_type": "code",
   "execution_count": 69,
   "metadata": {},
   "outputs": [
    {
     "name": "stdout",
     "output_type": "stream",
     "text": [
      "count    2.060000e+03\n",
      "mean    -1.064952e-16\n",
      "std      1.526957e-01\n",
      "min     -1.529718e+00\n",
      "25%     -4.182499e-02\n",
      "50%      7.757366e-03\n",
      "75%      7.469177e-02\n",
      "max      3.794361e-01\n",
      "Name: views_ratio, dtype: float64\n",
      "R-sq = 27.41%\n"
     ]
    },
    {
     "ename": "NameError",
     "evalue": "name 'graphviz' is not defined",
     "output_type": "error",
     "traceback": [
      "\u001b[1;31m---------------------------------------------------------------------------\u001b[0m",
      "\u001b[1;31mNameError\u001b[0m                                 Traceback (most recent call last)",
      "\u001b[1;32m<ipython-input-69-8ba099a2a232>\u001b[0m in \u001b[0;36m<module>\u001b[1;34m\u001b[0m\n\u001b[0;32m      6\u001b[0m \u001b[1;31m#print(pd.concat([y_2_unique.rename('y'),np.exp(y_2_unique).rename('exp(y)')],axis=1))\u001b[0m\u001b[1;33m\u001b[0m\u001b[1;33m\u001b[0m\u001b[1;33m\u001b[0m\u001b[0m\n\u001b[0;32m      7\u001b[0m \u001b[0mdot_data\u001b[0m \u001b[1;33m=\u001b[0m \u001b[0mtree\u001b[0m\u001b[1;33m.\u001b[0m\u001b[0mexport_graphviz\u001b[0m\u001b[1;33m(\u001b[0m\u001b[0mregr_2\u001b[0m\u001b[1;33m,\u001b[0m \u001b[0mout_file\u001b[0m\u001b[1;33m=\u001b[0m\u001b[1;32mNone\u001b[0m\u001b[1;33m,\u001b[0m \u001b[0mfeature_names\u001b[0m\u001b[1;33m=\u001b[0m\u001b[0mX\u001b[0m\u001b[1;33m.\u001b[0m\u001b[0mcolumns\u001b[0m\u001b[1;33m)\u001b[0m\u001b[1;33m\u001b[0m\u001b[1;33m\u001b[0m\u001b[0m\n\u001b[1;32m----> 8\u001b[1;33m \u001b[0mgraphviz\u001b[0m\u001b[1;33m.\u001b[0m\u001b[0mSource\u001b[0m\u001b[1;33m(\u001b[0m\u001b[0mdot_data\u001b[0m\u001b[1;33m)\u001b[0m\u001b[1;33m\u001b[0m\u001b[1;33m\u001b[0m\u001b[0m\n\u001b[0m",
      "\u001b[1;31mNameError\u001b[0m: name 'graphviz' is not defined"
     ]
    }
   ],
   "source": [
    "# Alternative Regression Tree with Bigger Depth\n",
    "# Better Performance but More Difficult to Understand\n",
    "print((y_2 - y).describe())\n",
    "print('R-sq = {:.2%}'.format(metrics.r2_score(y,y_2)))\n",
    "y_2_unique = pd.Series(pd.unique(y_2))\n",
    "#print(pd.concat([y_2_unique.rename('y'),np.exp(y_2_unique).rename('exp(y)')],axis=1))\n",
    "dot_data = tree.export_graphviz(regr_2, out_file=None, feature_names=X.columns) \n",
    "graphviz.Source(dot_data)"
   ]
  },
  {
   "cell_type": "markdown",
   "metadata": {},
   "source": [
    "# References\n",
    "<p> [1] Mitchell Jolly( Data Snaek) (2019). Trending YouTube Video Statistics <br>\n",
    "&nbsp;&nbsp;&nbsp;&nbsp;<i>Daily Statistics for Trending Youtube Videos,</i> Retrieved from:<br> &nbsp;&nbsp;&nbsp;&nbsp;https://www.kaggle.com/datasnaek/youtube-new </p>\n",
    "\n",
    "<p> [2] Mitchell Jolly & Data Snaek (2019). Trending YouTube Video Scraper <br>\n",
    "&nbsp;&nbsp;&nbsp;&nbsp;<i>Python script that scrapes the currently trending YouTube videos in a variety of countries,</i> Retrieved from:<br> &nbsp;&nbsp;&nbsp;&nbsp;https://github.com/DataSnaek/Trending-YouTube-Scraper </p>\n",
    "\n",
    "<p> [3] Author Unknown (2013). Python For Beginners <br>\n",
    "&nbsp;&nbsp;&nbsp;&nbsp;<i>Python's OS Module,</i> Retrieved from:<br> &nbsp;&nbsp;&nbsp;&nbsp;https://www.pythonforbeginners.com/os/pythons-os-module </p>\n",
    "\n",
    "<p> [4] Shubham. Ranjan (2019). Geeks For Geeks <br>\n",
    "&nbsp;&nbsp;&nbsp;&nbsp;<i>Python | Pandas dataframe.ffill(),</i> Retrieved from:<br> &nbsp;&nbsp;&nbsp;&nbsp;https://www.geeksforgeeks.org/python-pandas-dataframe-ffill/ </p>\n",
    "\n",
    "<p> [5] Andreas C. Muller & Sarah Guido (2013). Introduction to Machine Learning with Python:<br>\n",
    "&nbsp;&nbsp;&nbsp;&nbsp;<i>A guide for Data Scientists.,</i> Retrieved from:<br> &nbsp;&nbsp;&nbsp;&nbsp;https://www.pythonforbeginners.com/os/pythons-os-module </p>\n",
    "\n",
    "<p> [6] Michael Waskom (2012-2018). Seaborn <br>\n",
    "&nbsp;&nbsp;&nbsp;&nbsp;<i>An Introduction to Seaborn</i> Retrieved from:<br> &nbsp;&nbsp;&nbsp;&nbsp;https://seaborn.pydata.org/introduction.html#introduction </p>\n",
    "\n",
    "<p> [7] Author Unknown . scikit-learn <br>\n",
    "&nbsp;&nbsp;&nbsp;&nbsp;<i>5.9. Transforming the prediction target (y),</i> Retrieved from:<br> &nbsp;&nbsp;&nbsp;&nbsp;https://scikit-learn.org/stable/modules/preprocessing_targets.html#preprocessing-targets </p>\n",
    "\n",
    "<p> [8] Author Unknown . ipython.readthedocs.io <br>\n",
    "&nbsp;&nbsp;&nbsp;&nbsp;<i>Rich Outputs,</i> Retrieved from:<br> \n",
    "&nbsp;&nbsp;&nbsp;&nbsp; https://ipython.readthedocs.io/en/stable/interactive/plotting.html </p>\n",
    "\n",
    "<p> [9] Jason Ridgen (2017) Medium <br>\n",
    "&nbsp;&nbsp;&nbsp;&nbsp;<i> A guide to itertools,</i> Retrieved from:<br> \n",
    "&nbsp;&nbsp;&nbsp;&nbsp; https://medium.com/@jasonrigden/a-guide-to-python-itertools-82e5a306cdf8 </p>\n",
    "\n",
    "<p> [10] Author Unknown (2019) docs.python.org <br>\n",
    "&nbsp;&nbsp;&nbsp;&nbsp;<i> A guide to itertools,</i> Retrieved from:<br> \n",
    "&nbsp;&nbsp;&nbsp;&nbsp; https://docs.python.org/2/library/io.html</p>\n",
    "\n",
    "<p> [11] Guest Contributor (2019) docs.python.org <br>\n",
    "&nbsp;&nbsp;&nbsp;&nbsp;<i> Relative vs Absolute Imports in Python,</i> Retrieved from:<br> &nbsp;&nbsp;&nbsp;&nbsp; https://stackabuse.com/relative-vs-absolute-imports-in-python/</p>\n",
    "\n",
    "<p> [12]Роман Коптев (2018) Stack Overflow <br>\n",
    "&nbsp;&nbsp;&nbsp;&nbsp;<i> how-to-hide-one-specific-cell-input-or-output-in-ipython-notebook,</i> Retrieved from:<br> &nbsp;&nbsp;&nbsp;&nbsp; https://stackoverflow.com/questions/31517194/how-to-hide-one-specific-cell-input-or-output-in-ipython-notebook</p>"
   ]
  }
 ],
 "metadata": {
  "hide_input": false,
  "kernelspec": {
   "display_name": "Python 3",
   "language": "python",
   "name": "python3"
  },
  "language_info": {
   "codemirror_mode": {
    "name": "ipython",
    "version": 3
   },
   "file_extension": ".py",
   "mimetype": "text/x-python",
   "name": "python",
   "nbconvert_exporter": "python",
   "pygments_lexer": "ipython3",
   "version": "3.7.1"
  }
 },
 "nbformat": 4,
 "nbformat_minor": 2
}
